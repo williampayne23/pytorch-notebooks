{
 "cells": [
  {
   "cell_type": "markdown",
   "id": "f5ec16d0-b3d2-439a-8a6b-9e6e2214f0d0",
   "metadata": {
    "colab_type": "text",
    "id": "view-in-github"
   },
   "source": [
    "<a href=https://colab.research.google.com/github/williampayne23/pytorch-notebooks/blob/main/Transformer.ipynb target=\"_parent\"><img src=\"https://colab.research.google.com/assets/colab-badge.svg\" alt=\"Open In Colab\"/></a>"
   ]
  },
  {
   "cell_type": "markdown",
   "id": "156cfb0c",
   "metadata": {
    "id": "79b1d3c2-9285-4496-9190-0d29ad49cae1",
    "tags": []
   },
   "source": [
    "# Transformer\n",
    "Working from [this](https://github.com/jacobhilton/deep_learning_curriculum/blob/master/1-Transformers.md)"
   ]
  },
  {
   "cell_type": "markdown",
   "id": "bddc3551",
   "metadata": {
    "id": "d850b9a1-b6ce-4ab4-866e-a6e0bd092ca3"
   },
   "source": [
    "## Initial Questions"
   ]
  },
  {
   "cell_type": "markdown",
   "id": "1d00039c",
   "metadata": {
    "id": "2bf8b945-0591-4553-908a-ecce6b7f6f93"
   },
   "source": [
    "1. What is different architecturally from the Transformer, vs a normal RNN, like an LSTM? (Specifically, how are recurrence and time managed?) \n",
    "    \n",
    "    No recurrance, time uses positional embeddings, self attention."
   ]
  },
  {
   "cell_type": "markdown",
   "id": "2ec38f12",
   "metadata": {
    "id": "662a0412-3d60-4786-9cee-cce82598fd13"
   },
   "source": [
    "2. Attention is defined as, $\\text{Attention}(Q,K,V) = \\text{softmax}(\\frac{QK^T}{\\sqrt{d_k}})V$. What are the dimensions for Q, K, and V? Why do we use this setup? What other combinations could we do with (Q,K) that also output weights?\n",
    "\n",
    "  $\\text{seq_length} \\times d_k, d_k, d_v$\n",
    "\n",
    "  So $QK^T$ is a $(\\text{seq_length}, \\text{seq_length})$ matrix and Attention is a $(\\text{seq_length}, d_v)$ matrix\n",
    "  \n",
    "  But MultiHead attention is defined as\n",
    "  \n",
    "  $\\text{MultiHeadAttention}(Q, K, V) = \\text{concat}(\\text{head}_1, \\text{head}_2, \\ldots)W_0$\n",
    "  \n",
    "  These heads are defined as\n",
    "  \n",
    "  $\\text{head}_i = \\text{Attention}(QW_i^Q, KW_i^K, VW_i^Q)$\n",
    "  \n",
    "  Where\n",
    "  \n",
    "  $W_i^Q \\in \\mathbb{R}^{d_\\text{model}\\times d_k}, W_i^K \\in \\mathbb{R}^{d_\\text{model}\\times d_k} , W_i^V \\in \\mathbb{R}^{d_\\text{model}\\times d_v}$ and $W_O \\in \\mathbb{R}^{hd_v\\times d_\\text{model}}$.\n",
    "  \n",
    "  This means working backward that for multi headed attention\n",
    "  \n",
    "  $Q, K, \\text{and } V \\in \\mathbb{R}^{\\text{seq_length} \\times d_\\text{model}}$\n",
    "  \n",
    "  and\n",
    "  \n",
    "  $\\text{concat}(\\text{head}_1, \\text{head}_2, \\ldots) \\in \\mathbb{R}^{\\text{seq_length} \\times hd_\\text{dv}}$ \n",
    "  \n",
    "  so\n",
    "  \n",
    "  $\\text{MultiHeadAttention}(Q, K, V) \\in \\mathbb{R}^{\\text{seq_length} \\times d_\\text{model}}$\n",
    "  \n",
    "  It seems like in a lot of implementations there is just one W^Q matrix which is all the W_i^Q matrices concatinated together so $W^Q \\in \\mathbb{R}^{d_\\text{model} \\times hd_k}$ which means $W^Q \\in \\mathbb{R}^{d_\\text{model} \\times d_\\text{model}}$\n",
    "  \n",
    "  You then have to split it up again for the Attention function (since the creation of self attn (softmax($QK^T$)) is the part that we get independently"
   ]
  },
  {
   "cell_type": "markdown",
   "id": "bf66d59c",
   "metadata": {
    "id": "421bc392-3901-44e6-ac28-92475cf4fa39"
   },
   "source": [
    "3. Are the dense layers different at each multi-head attention block? Why or why not?\n",
    "\n",
    "    Yes, so the different blocks can encode different relationships / focusses in attention"
   ]
  },
  {
   "cell_type": "markdown",
   "id": "a461e17e",
   "metadata": {
    "id": "59fa34d6-5370-441a-8109-b1cbe4fb7f3d"
   },
   "source": [
    "4. Why do we have so many skip connections, especially connecting the input of an attention function to the output? Intuitively, what if we didn't?\n",
    "    The original word embedding might get buried under noise if it isn't reinforced. \n",
    "    \n",
    "    From solution:\n",
    "        In the ResNet paper, it was observed that some deep neural networks perform worse than their shallow counterparts. Adding skip connections empirically seemed to solve this issue. The intuition is that adding skip connections allows layers to learn the identity mapping more easily. \"To the extreme, if an identity mapping were optimal, it would be easier to push the residual to zero than to fit an identity mapping by a stack of nonlinear layers.\"\n",
    "\n",
    "    If we didn't include these skip connections, we might experience a degradation of performance for very deep transformer models due to vanishing / exploding gradient problems.\n",
    "    "
   ]
  },
  {
   "cell_type": "markdown",
   "id": "97f473b5",
   "metadata": {
    "id": "70f372c8-d50e-4e14-b4b1-46b00626d5e7"
   },
   "source": [
    "## Implementation"
   ]
  },
  {
   "cell_type": "code",
   "execution_count": 16,
   "id": "11ed375c",
   "metadata": {
    "id": "f758f849-84f1-47c7-bfa3-6669f63b9b18"
   },
   "outputs": [],
   "source": [
    "import numpy as np\n",
    "import torch\n",
    "import torch.nn as nn\n",
    "from torch.utils.data import Dataset\n",
    "from torch.utils.data.dataloader import DataLoader\n",
    "from torch import optim\n",
    "import matplotlib.pyplot as plt\n",
    "import numpy as np\n",
    "import math, copy\n",
    "from collections import OrderedDict\n",
    "from tqdm import tqdm"
   ]
  },
  {
   "cell_type": "markdown",
   "id": "a32fe583",
   "metadata": {
    "id": "af717fa2-cb60-4090-8c99-686204732e60",
    "tags": []
   },
   "source": [
    "### Implement the positional embeddings function first"
   ]
  },
  {
   "cell_type": "markdown",
   "id": "d9646481",
   "metadata": {
    "id": "6a9035b4-953b-4053-aa69-19ed79c9ded2"
   },
   "source": [
    "Equations\n",
    "\n",
    "$PE(pos,2i) = \\sin(pos/10000^{2i/d_{model}})$\n",
    "\n",
    "$PE(pos,2i + 1) = \\cos(pos/10000^{2i/d_{model}})$"
   ]
  },
  {
   "cell_type": "code",
   "execution_count": 17,
   "id": "56473cef",
   "metadata": {
    "id": "1cb4ccc5-457e-4d12-8bc4-771059ac10f1",
    "tags": []
   },
   "outputs": [],
   "source": [
    "class PositionalEmbedding(nn.Module):\n",
    "    def __init__(self, d_model, dropout=0.1, max_len=5000):\n",
    "        super(PositionalEmbedding, self).__init__()\n",
    "        self.dropout = nn.Dropout(dropout)\n",
    "        torch.zeros(d_model)\n",
    "        \n",
    "        encodings = torch.zeros(max_len, d_model)\n",
    "        dimensions = torch.arange(d_model)\n",
    "        denominator = div_term = torch.exp(torch.arange(0, d_model, 2) *\n",
    "                             -(math.log(10000.0) / d_model))\n",
    "        positions = torch.arange(max_len).unsqueeze(1)\n",
    "        encodings[:,0::2] = torch.sin(positions * denominator)\n",
    "        encodings[:,1::2] = torch.cos(positions * denominator)\n",
    "        self.register_buffer('encodings', encodings) #Registers a persistent buffer for this layer\n",
    "        \n",
    "    def forward(self, x):\n",
    "        #x; batch_size, seq_length, d_model\n",
    "        x = x + self.encodings[:x.size(-2)]\n",
    "        return self.dropout(x)\n",
    "    "
   ]
  },
  {
   "cell_type": "code",
   "execution_count": 18,
   "id": "a337ec4c",
   "metadata": {
    "colab": {
     "base_uri": "https://localhost:8080/",
     "height": 268
    },
    "id": "b9346a52-3aac-43ef-b7b6-c985f705536a",
    "outputId": "14422838-c0d9-460b-ba8f-f38d842fbca5"
   },
   "outputs": [
    {
     "data": {
      "image/png": "[encoded data removed]",
      "text/plain": [
       "<Figure size 432x288 with 1 Axes>"
      ]
     },
     "metadata": {
      "needs_background": "light"
     },
     "output_type": "display_data"
    }
   ],
   "source": [
    "pe = PositionalEmbedding(100, 0)\n",
    "y = pe.forward(torch.zeros(2, 100, 100))\n",
    "plt.imshow(y[0], cmap='Blues', interpolation='nearest')\n",
    "plt.show()"
   ]
  },
  {
   "cell_type": "markdown",
   "id": "2a711898",
   "metadata": {
    "id": "183cb078-d69c-47bf-8fe3-a06f1e7f80e1"
   },
   "source": [
    "### Then implement the function which calculates attention, given (Q,K,V) as arguments."
   ]
  },
  {
   "cell_type": "code",
   "execution_count": 19,
   "id": "1e6a0031",
   "metadata": {
    "colab": {
     "base_uri": "https://localhost:8080/"
    },
    "id": "8a721a71-98dc-41bd-a903-c0558803759a",
    "outputId": "b6b23140-a701-4f77-e151-8da04ea31644"
   },
   "outputs": [
    {
     "data": {
      "text/plain": [
       "tensor([[1, 4],\n",
       "        [2, 5],\n",
       "        [3, 6]])"
      ]
     },
     "execution_count": 19,
     "metadata": {},
     "output_type": "execute_result"
    }
   ],
   "source": [
    "torch.tensor([[1,2,3],[4,5,6]]).transpose(0, 1)"
   ]
  },
  {
   "cell_type": "code",
   "execution_count": 20,
   "id": "ba114fec",
   "metadata": {
    "id": "a9411fb5-7b8b-424e-a4e5-c96dadf1180e"
   },
   "outputs": [],
   "source": [
    "def attention(Q, K, V, mask=None, dropout=None):\n",
    "    #Q, K, V; batch_size, h, seq_length, dk or dv\n",
    "    rt_d_k = math.sqrt(Q.size(-1))\n",
    "    scores = torch.matmul(Q, K.transpose(-1,-2)) / rt_d_k\n",
    "    if mask is not None:\n",
    "        scores = scores.masked_fill(mask == 0, -math.inf)\n",
    "        \n",
    "    p_att = scores.softmax(dim=-1)\n",
    "    size = V.size()\n",
    "    if dropout is not None:\n",
    "        p_att = dropout(p_att)\n",
    "    \n",
    "    return torch.matmul(p_att, V), p_att"
   ]
  },
  {
   "cell_type": "markdown",
   "id": "fb0a8904",
   "metadata": {
    "id": "00d08431-3c7f-426e-ab9c-dc0fa1eb0ff8"
   },
   "source": [
    "### Now implement the masking function."
   ]
  },
  {
   "cell_type": "code",
   "execution_count": 21,
   "id": "f13900a5",
   "metadata": {
    "id": "bf0b6051-c94e-4dd6-aa24-c4938feb7d69"
   },
   "outputs": [],
   "source": [
    "def masked_attention(Q, K, V):\n",
    "    print(mask)\n",
    "    return attention(Q, K, V, mask=mask)"
   ]
  },
  {
   "cell_type": "markdown",
   "id": "12309e30",
   "metadata": {
    "id": "aea2fb2e-ea5f-418f-93f2-d1a01b76d5d4"
   },
   "source": [
    "### Put it all together to form an entire attention block."
   ]
  },
  {
   "cell_type": "code",
   "execution_count": 22,
   "id": "6c747f3f",
   "metadata": {
    "id": "c8691388-400d-4a65-b469-d7cb883880b1"
   },
   "outputs": [],
   "source": [
    "class MultiHeadedAttention(nn.Module):\n",
    "    def __init__(self, d_model, dropout=0.1, h = 8, mask=None):\n",
    "        super(MultiHeadedAttention, self).__init__()\n",
    "        self.dropout = nn.Dropout(dropout)\n",
    "        self.h = h\n",
    "        self.dk = d_model // h\n",
    "        self.dv = self.dk\n",
    "        self.attn = None\n",
    "        self.mask = mask\n",
    "        self.WQ = nn.Linear(d_model, d_model)\n",
    "        self.WK = nn.Linear(d_model, d_model)\n",
    "        self.WV = nn.Linear(d_model, d_model)\n",
    "        self.W0 = nn.Linear(d_model, d_model)\n",
    "        \n",
    "    \n",
    "    def forward(self, x, mask=None):\n",
    "        # x; batch_size, seq_length, d_model\n",
    "        batch_size = x.size(0)\n",
    "        \n",
    "        #Linearly project X into Q, K, and V\n",
    "        queries = self.WQ(x) #batch_size, seq_length, d_model\n",
    "        keys = self.WK(x)    #batch_size, seq_length, d_model\n",
    "        values = self.WV(x)  #batch_size, seq_length, d_model\n",
    "        \n",
    "        #Split Q, K, and V into multi headed\n",
    "        queries = queries.view(batch_size, -1, self.h, self.dk).transpose(1,2)\n",
    "        keys = keys.view(batch_size, -1, self.h, self.dk).transpose(1,2)\n",
    "        values = values.view(batch_size, -1, self.h, self.dv).transpose(1,2)\n",
    "        \n",
    "        #q,k,v ; batch_size, h, seq_length, (dk or dv)\n",
    "        \n",
    "        x, self.attn = attention(queries, keys, values, mask, self.dropout)\n",
    "        #x; batch_size, h, seq_length, dk\n",
    "        #self.attn; batch_size, \n",
    "        \n",
    "        x = x.transpose(1,2).contiguous().view(batch_size, -1, self.dk * self.h)\n",
    "        #x; batch_size, seq_length, model_size\n",
    "        \n",
    "        return self.W0(x)"
   ]
  },
  {
   "cell_type": "markdown",
   "id": "d5b47dd2",
   "metadata": {
    "id": "03141d67-cadc-4cce-a033-ed3cc93d44ca"
   },
   "source": [
    "### Finish the whole architecture."
   ]
  },
  {
   "cell_type": "markdown",
   "id": "71883c64",
   "metadata": {
    "id": "35e31cef-9f1a-4c22-a449-ab070cc5ce04",
    "tags": []
   },
   "source": [
    "#### Decoder Block"
   ]
  },
  {
   "cell_type": "code",
   "execution_count": 23,
   "id": "15fd8d00",
   "metadata": {
    "id": "4bea66c8-645d-4ec1-a97e-11f8fd3af95b"
   },
   "outputs": [],
   "source": [
    "class FeedForwardNetwork(nn.Module):\n",
    "    def __init__(self, d_model, d_ff=2048, dropout=0.1):\n",
    "        super(FeedForwardNetwork, self).__init__()\n",
    "        self.seq = nn.Sequential(nn.Linear(d_model, d_ff),\n",
    "                                 nn.ReLU(), \n",
    "                                 nn.Dropout(dropout),\n",
    "                                 nn.Linear(d_ff, d_model))\n",
    "    \n",
    "    def forward(self, x):\n",
    "        return self.seq(x)"
   ]
  },
  {
   "cell_type": "code",
   "execution_count": 24,
   "id": "b0dee2af",
   "metadata": {
    "id": "5a6c0842-6839-4428-82b3-acbeb120e32c"
   },
   "outputs": [],
   "source": [
    "class AddAndNorm(nn.Module):\n",
    "    def __init__(self, size):\n",
    "        super(AddAndNorm, self).__init__()\n",
    "        self.norm = nn.LayerNorm(size)\n",
    "    \n",
    "    def forward(self, x, layer):\n",
    "        return self.norm(x + layer(x))"
   ]
  },
  {
   "cell_type": "code",
   "execution_count": 25,
   "id": "8e27755f",
   "metadata": {
    "id": "582e3e7c-bfce-44dc-9072-f2099671dea7"
   },
   "outputs": [],
   "source": [
    "class DecoderBlock(nn.Module):\n",
    "    def __init__(self, d_model, hidden_layers=2048, dropout=0.1, h=8):\n",
    "        super(DecoderBlock, self).__init__()\n",
    "        self.ln1 = nn.LayerNorm(d_model)\n",
    "        self.ln2 = nn.LayerNorm(d_model)\n",
    "        self.mha = MultiHeadedAttention(d_model, dropout, h)\n",
    "        self.ffn = FeedForwardNetwork(d_model, hidden_layers, dropout)\n",
    "        \n",
    "        \n",
    "    def forward(self, x, mask=None):\n",
    "        base_mask = torch.tril(torch.ones(x.size(-2), x.size(-2))).to(x.device)\n",
    "        if mask is not None:\n",
    "            base_mask = mask*base_mask\n",
    "        x = self.ln1(x + self.mha(x, base_mask))\n",
    "        x = self.ln2(x + self.ffn(x))\n",
    "        return x"
   ]
  },
  {
   "cell_type": "markdown",
   "id": "e0475a26",
   "metadata": {
    "id": "a91c6050-1d12-4349-8f6f-ef670fd045b5"
   },
   "source": [
    "#### Decoder Stack"
   ]
  },
  {
   "cell_type": "code",
   "execution_count": 26,
   "id": "c714e6d9",
   "metadata": {
    "id": "6791f031-2b1a-4369-9bd5-61874187170c"
   },
   "outputs": [],
   "source": [
    "class DecoderStack(nn.Module):\n",
    "    def __init__(self, d_model, N=8, hidden_layers=2048, dropout=0.1, h=8):\n",
    "        super(DecoderStack, self).__init__()\n",
    "        self.decoder_blocks = nn.ModuleList([copy.deepcopy(DecoderBlock(d_model, hidden_layers, dropout, h)) for x in range(N)])\n",
    "    \n",
    "    def forward(self, x, mask=None):\n",
    "        for block in self.decoder_blocks:\n",
    "            x = block(x, mask)\n",
    "        return x"
   ]
  },
  {
   "cell_type": "markdown",
   "id": "cb3748c2",
   "metadata": {
    "id": "dee69bf4-909d-4536-9dea-48b482396448"
   },
   "source": [
    "#### Decoder only transformer\n",
    "Learned Embeddings -> +Positional embeddings -> Decoder Block (*N) -> Linear -> Softmax -> Output probabilities"
   ]
  },
  {
   "cell_type": "code",
   "execution_count": 27,
   "id": "24626c05",
   "metadata": {
    "id": "8af8f781-52c2-4bbc-bf8f-2d48773ace7f"
   },
   "outputs": [],
   "source": [
    "class DecoderTransformer(nn.Module):\n",
    "    def __init__(self, d_model, vocab, N=8, d_ffl=2048, dropout=0.1, h=8, max_len=5000):\n",
    "        super(DecoderTransformer, self).__init__()\n",
    "        assert d_model % h == 0\n",
    "        self.learned_embeddings = nn.Embedding(vocab, d_model)\n",
    "        self.positional_embedding = PositionalEmbedding(d_model, dropout=dropout, max_len=max_len)\n",
    "        self.decoder_stack = DecoderStack(d_model, N=N, hidden_layers=d_ffl, dropout=dropout, h=h)\n",
    "        self.lin = nn.Linear(d_model, vocab)\n",
    "    \n",
    "    \n",
    "    def forward(self, x, mask=None):\n",
    "        #x; batch_size, seq_length, vocab_len\n",
    "        embedding = self.learned_embeddings(x) #batch_size, seq_length, d_model\n",
    "        pos_embedding = self.positional_embedding(embedding) #batch_size, seq_length, d_model\n",
    "        final_embedding = self.decoder_stack(pos_embedding) #batch_size, seq_length, d_model\n",
    "        logits = self.lin(final_embedding) #.softmax(dim=-1) #batch_size, seq_length, vocab_len\n",
    "        return logits"
   ]
  },
  {
   "cell_type": "markdown",
   "id": "17367267",
   "metadata": {
    "id": "6f75dfca-4c85-4ad9-8a3e-5db00aae0eb5"
   },
   "source": [
    "### Training on the reverse dataset"
   ]
  },
  {
   "cell_type": "code",
   "execution_count": 13,
   "id": "ad4ed787",
   "metadata": {
    "id": "657a5b85-945d-435c-9fc4-9c29532fbb4f"
   },
   "outputs": [],
   "source": [
    "class ReverseDataset(Dataset):\n",
    "    def __init__(self, length):\n",
    "        self.length = length\n",
    "        self.size = 10**length # total number of possible combinations\n",
    "\n",
    "    def __len__(self):\n",
    "        return self.size\n",
    "\n",
    "    def __getitem__(self, idx):\n",
    "        x = torch.randint(10, size=(self.length,), dtype=torch.long)\n",
    "        y = torch.flip(x,(-1,))\n",
    "        return x, y"
   ]
  },
  {
   "cell_type": "code",
   "execution_count": 14,
   "id": "1e171e8f",
   "metadata": {
    "colab": {
     "base_uri": "https://localhost:8080/"
    },
    "id": "3e0ba522-b5b9-4714-877a-edb55a11db7f",
    "outputId": "dd0814b2-0123-407c-c34f-854d4f9e7ee7"
   },
   "outputs": [
    {
     "name": "stdout",
     "output_type": "stream",
     "text": [
      "device: cuda\n"
     ]
    }
   ],
   "source": [
    "rd = ReverseDataset(6)\n",
    "\n",
    "batch_size = 2048\n",
    "train_loader = DataLoader(\n",
    "    rd, shuffle=True, pin_memory=True, batch_size=batch_size\n",
    ")\n",
    "device =torch.device(\"mps\" if torch.backends.mps.is_available() and torch.backends.mps.is_built() else \"cuda\" if torch.cuda.is_available() else \"cpu\")\n",
    "print(\"device:\", device)"
   ]
  },
  {
   "cell_type": "markdown",
   "id": "42cce4a8",
   "metadata": {
    "id": "oEYjlRJT2c7-"
   },
   "source": [
    "#### Functional optimiser"
   ]
  },
  {
   "cell_type": "code",
   "execution_count": 15,
   "id": "14c60bcf",
   "metadata": {
    "colab": {
     "base_uri": "https://localhost:8080/",
     "height": 392
    },
    "id": "7d2e5765-8363-4e46-8f88-1d8f12bf54d8",
    "outputId": "cb42c59a-5962-498d-ea60-e86ce63e6d90"
   },
   "outputs": [],
   "source": [
    "model = DecoderTransformer(\n",
    "  d_model=128, \n",
    "  vocab=10, \n",
    "  N=2,\n",
    "  d_ffl=512, \n",
    "  dropout=0.1, \n",
    "  h=4\n",
    ").to(device).train()\n",
    "\n",
    "def train(model):\n",
    "    loss_fn = nn.CrossEntropyLoss()\n",
    "    optimizer = optim.Adam(model.parameters(), lr=1e-4)\n",
    "\n",
    "    max_epochs = 1\n",
    "    losses = [];\n",
    "    for epoch in range(max_epochs):\n",
    "        pbar = tqdm(enumerate(train_loader), total=len(train_loader))\n",
    "        for it, (x, y) in pbar:\n",
    "            x = x.to(device)\n",
    "            y = y.to(device)\n",
    "\n",
    "            optimizer.zero_grad()\n",
    "\n",
    "            logits = model(x)\n",
    "            loss = loss_fn(logits.view(-1, logits.size(-1)), y.view(-1))\n",
    "            loss.backward()\n",
    "            losses.append(loss.cpu().detach().numpy())\n",
    "\n",
    "            optimizer.step()\n",
    "            pbar.set_description(f\"epoch {epoch} iter {it}: train loss {loss.item():.5f}\")"
   ]
  },
  {
   "cell_type": "code",
   "execution_count": 16,
   "id": "402ecc29-caa3-41e8-b916-4e955a625db5",
   "metadata": {},
   "outputs": [
    {
     "data": {
      "text/plain": [
       "device(type='cuda')"
      ]
     },
     "execution_count": 16,
     "metadata": {},
     "output_type": "execute_result"
    }
   ],
   "source": [
    "torch.device(\"cuda\" if torch.cuda.is_available() else \"cpu\")"
   ]
  },
  {
   "cell_type": "markdown",
   "id": "7bf5a608",
   "metadata": {
    "id": "2bRzO4nu2yVW"
   },
   "source": [
    "#### Wrapper optimiser"
   ]
  },
  {
   "cell_type": "code",
   "execution_count": 138,
   "id": "3b87ef21",
   "metadata": {
    "id": "Stsh_1jbmOlx",
    "tags": []
   },
   "outputs": [],
   "source": [
    "class DecoderTransformerWrapper():\n",
    "    def __init__(self, model, vocab):\n",
    "        self.device = torch.device(\"cuda\" if torch.cuda.is_available() else \"cpu\")\n",
    "        self.decoder_transformer = model.to(self.device)\n",
    "        self.losses = []\n",
    "        self.vocab = vocab\n",
    "\n",
    "    @classmethod\n",
    "    def from_parameters(cls, d_model, vocab, d_ffl=None, height=4, heads=8, dropout=0.1, max_len=5000):\n",
    "        #vocab should be a list of allowed values\n",
    "        if d_ffl is None:\n",
    "            d_ffl = d_model * 4\n",
    "        model = DecoderTransformer(\n",
    "          d_model=d_model, \n",
    "          vocab=len(vocab), \n",
    "          N=height,\n",
    "          d_ffl=d_ffl, \n",
    "          dropout=dropout, \n",
    "          h=heads,\n",
    "          max_len=max_len\n",
    "        )\n",
    "        return cls(model, vocab)\n",
    "\n",
    "    def train(self, train_loader, lr=1e-4, max_epochs=1, loss_fn=nn.CrossEntropyLoss(), test_lambda=None):\n",
    "        self.decoder_transformer.train()\n",
    "        optimizer = optim.Adam(self.decoder_transformer.parameters(), lr=lr)\n",
    "        self.losses = []\n",
    "        for epoch in range(max_epochs):\n",
    "            pbar = tqdm(enumerate(train_loader), total=len(train_loader))\n",
    "            for it, (x, y) in pbar:\n",
    "                x = x.to(self.device)\n",
    "                y = y.to(self.device)\n",
    "\n",
    "                optimizer.zero_grad()\n",
    "\n",
    "                logits = self.decoder_transformer(x)\n",
    "                loss = loss_fn(logits.view(-1, logits.size(-1)), y.view(-1))\n",
    "                loss.backward()\n",
    "                self.losses.append(loss.cpu().detach().numpy())\n",
    "\n",
    "                pred = logits.argmax(dim=-1)\n",
    "                if test_lambda is None:\n",
    "                    correct = (pred == y).type(torch.float).sum().item()\n",
    "                else:\n",
    "                    correct = test_lambda(pred, y).type(torch.float).sum().item()\n",
    "                accuracy = correct / x.size(0)\n",
    "                optimizer.step()\n",
    "                pbar.set_description(f\"epoch {epoch} iter {it}: train loss {loss.item():.5f}, accuracy {accuracy*100:0.2f}%\")\n",
    "  \n",
    "    def test(self, test_loader, test_lambda=None):\n",
    "        self.decoder_transformer.eval()\n",
    "        correct = 0\n",
    "        n = 0\n",
    "        with torch.no_grad():\n",
    "            pbar = tqdm(enumerate(test_loader), total=len(test_loader))\n",
    "            for it, (x, y) in pbar:\n",
    "                x = x.to(self.device)\n",
    "                y = y.to(self.device)\n",
    "                n += x.size(0)\n",
    "                logits = self.decoder_transformer(x)\n",
    "                pred = logits.argmax(dim=-1)\n",
    "                if test_lambda is None:\n",
    "                    correct += (pred == y).type(torch.float).sum().item()\n",
    "                else:\n",
    "                    correct += test_lambda(pred, y).type(torch.float).sum().item()\n",
    "                accuracy = correct / n\n",
    "                pbar.set_description(f\"iter {it}: test accuracy {accuracy*100:.2f}%\")    \n",
    "    \n",
    "    def eval(self, x):\n",
    "        self.decoder_transformer.eval()\n",
    "        x = x.to(self.device)\n",
    "        if len(x.size()) == 1:\n",
    "            x = x.unsqueeze(0)\n",
    "        with torch.no_grad():\n",
    "            logits = self.decoder_transformer(x)\n",
    "        return logits\n",
    "    \n",
    "    def top_k_logits(self, logits, k):\n",
    "        v, ix = torch.topk(logits, k)\n",
    "        out = logits.clone()\n",
    "        out[out < v[:, [-1]]] = -float('Inf')\n",
    "        return out\n",
    "\n",
    "    def sample(self, x, k=1):\n",
    "        logits = self.eval(x)[0]\n",
    "        logits = self.top_k_logits(logits, k)\n",
    "        # apply softmax to convert to probabilities\n",
    "        probs = logits.softmax(dim=-1)\n",
    "        # sample from the distribution or take the most likely\n",
    "        ix = torch.multinomial(probs, num_samples=1)\n",
    "        return([self.vocab[i.item()] for i in ix])\n",
    "\n",
    "    def to(self, device):\n",
    "        self.device = device\n",
    "        self.decoder_transformer.to(device)\n",
    "\n",
    "\n",
    "if 'handler' in locals():\n",
    "    handler = DecoderTransformerWrapper(handler.decoder_transformer, range(10))"
   ]
  },
  {
   "cell_type": "code",
   "execution_count": 18,
   "id": "fad85f51",
   "metadata": {
    "id": "Zff1BZA2oViu",
    "tags": []
   },
   "outputs": [],
   "source": [
    "handler = DecoderTransformerWrapper.from_parameters(d_model=128,\n",
    "                                    vocab=range(10),\n",
    "                                    height=2,\n",
    "                                    d_ffl=512, \n",
    "                                    dropout=0.1, \n",
    "                                    heads=4)\n",
    "# handler.train(train_loader, test_lambda=lambda pred, y: (pred == y)[:, -3:].all(dim=-1))"
   ]
  },
  {
   "cell_type": "code",
   "execution_count": 19,
   "id": "6f497076",
   "metadata": {
    "execution": {
     "iopub.execute_input": "2022-10-17T17:03:25.646316Z",
     "iopub.status.busy": "2022-10-17T17:03:25.645955Z",
     "iopub.status.idle": "2022-10-17T17:03:40.556363Z",
     "shell.execute_reply": "2022-10-17T17:03:40.555249Z",
     "shell.execute_reply.started": "2022-10-17T17:03:25.646285Z"
    },
    "id": "H8dKrAFQtKLF"
   },
   "outputs": [],
   "source": [
    "test_loader = DataLoader(\n",
    "    rd, shuffle=True, pin_memory=True, batch_size=1024\n",
    ")\n",
    "# handler.test(test_loader, test_lambda=lambda pred, y: (pred == y)[:, -3:].all(dim=-1))"
   ]
  },
  {
   "cell_type": "markdown",
   "id": "63bc6687",
   "metadata": {},
   "source": [
    "### Works of Shakespeare"
   ]
  },
  {
   "cell_type": "code",
   "execution_count": 20,
   "id": "01dde9f3",
   "metadata": {},
   "outputs": [],
   "source": [
    "# DON'T run this the text should be saved\n",
    "# url = \"https://www.gutenberg.org/files/100/100-0.txt\"\n",
    "\n",
    "# import requests\n",
    "# response = requests.get(url)\n",
    "# open(\"works.txt\", \"wb\").write(response.content)"
   ]
  },
  {
   "cell_type": "code",
   "execution_count": 30,
   "id": "816ed832",
   "metadata": {},
   "outputs": [],
   "source": [
    "import re\n",
    "class PlaywriteDataset(Dataset):\n",
    "  def __init__(self, chunk_size):\n",
    "    text = open(\"works.txt\", \"r\").read()\n",
    "    self.data = re.split(r\"\\b\", text)\n",
    "    self.vocab = sorted(set(self.data))\n",
    "    self.chunk_size = chunk_size\n",
    "    self.size = len(self.data)\n",
    "    self.vocab_size = len(self.vocab)\n",
    "    self.index_to_word = {i: word for i, word in enumerate(self.vocab)}\n",
    "    self.word_to_index = {word: i for i, word in enumerate(self.vocab)}\n",
    "  \n",
    "  def __len__(self):\n",
    "    return self.size - self.chunk_size\n",
    "\n",
    "  def __getitem__(self, idx):\n",
    "    #Copying the example I get x and y where y is one word offset from x\n",
    "    chunk = self.data[idx:idx+self.chunk_size + 1]\n",
    "    numerical_chunk = [self.word_to_index[word] for word in chunk]\n",
    "    x = torch.tensor(numerical_chunk[:-1], dtype=torch.long)\n",
    "    y = torch.tensor(numerical_chunk[1:], dtype=torch.long)\n",
    "    return x, y"
   ]
  },
  {
   "cell_type": "code",
   "execution_count": 31,
   "id": "1b886563",
   "metadata": {},
   "outputs": [],
   "source": [
    "pd = PlaywriteDataset(64)"
   ]
  },
  {
   "cell_type": "code",
   "execution_count": 23,
   "id": "a95aaa4d",
   "metadata": {},
   "outputs": [
    {
     "data": {
      "text/plain": [
       "(tensor([34542,  9992,   113,  8237,   113,  5523,   113, 17830,   113, 24979,\n",
       "           113,  9992,   113,  3477,   113, 10995,   113, 24979,   113, 10916,\n",
       "           113,  9165,   480, 14228,   113, 10916,   113,  9165,     1, 10039,\n",
       "           113, 17830,   113, 22293,   113, 19582,   113, 31392,   113, 33037,\n",
       "           113, 24979,   113, 12315,   113, 12317,   113, 21768,   113, 31392,\n",
       "           113, 10403,   113,  9566,   113, 12244,     0, 24317,   113, 25174,\n",
       "           113, 25577,   113, 24979]),\n",
       " tensor([ 9992,   113,  8237,   113,  5523,   113, 17830,   113, 24979,   113,\n",
       "          9992,   113,  3477,   113, 10995,   113, 24979,   113, 10916,   113,\n",
       "          9165,   480, 14228,   113, 10916,   113,  9165,     1, 10039,   113,\n",
       "         17830,   113, 22293,   113, 19582,   113, 31392,   113, 33037,   113,\n",
       "         24979,   113, 12315,   113, 12317,   113, 21768,   113, 31392,   113,\n",
       "         10403,   113,  9566,   113, 12244,     0, 24317,   113, 25174,   113,\n",
       "         25577,   113, 24979,   113]))"
      ]
     },
     "execution_count": 23,
     "metadata": {},
     "output_type": "execute_result"
    }
   ],
   "source": [
    "pd[0]"
   ]
  },
  {
   "cell_type": "code",
   "execution_count": 24,
   "id": "bd3618f8",
   "metadata": {},
   "outputs": [],
   "source": [
    "word_loader = DataLoader(\n",
    "    pd, shuffle=True, pin_memory=True, batch_size=64\n",
    ")"
   ]
  },
  {
   "cell_type": "code",
   "execution_count": 139,
   "id": "cb6be674",
   "metadata": {},
   "outputs": [],
   "source": [
    "word_handler = DecoderTransformerWrapper.from_parameters(d_model=512,\n",
    "                                    vocab=pd.index_to_word,\n",
    "                                    height=8,\n",
    "                                    d_ffl=2048, \n",
    "                                    dropout=0.1, \n",
    "                                    heads=8,\n",
    "                                    max_len=pd.chunk_size)\n",
    "# word_handler.train(word_loader, test_lambda=lambda pred, y: (pred == y)[:, -3:].all(dim=-1))"
   ]
  },
  {
   "cell_type": "code",
   "execution_count": 26,
   "id": "28a4f331",
   "metadata": {},
   "outputs": [
    {
     "name": "stderr",
     "output_type": "stream",
     "text": [
      "epoch 0 iter 17956: train loss 1.60100, accuracy 21.88%:  58%|█████▊    | 17957/31058 [54:04<39:00,  5.60it/s]IOPub message rate exceeded.\n",
      "The Jupyter server will temporarily stop sending output\n",
      "to the client in order to avoid crashing it.\n",
      "To change this limit, set the config variable\n",
      "`--ServerApp.iopub_msg_rate_limit`.\n",
      "\n",
      "Current values:\n",
      "ServerApp.iopub_msg_rate_limit=1000.0 (msgs/sec)\n",
      "ServerApp.rate_limit_window=3.0 (secs)\n",
      "\n",
      "epoch 0 iter 29175: train loss 1.05205, accuracy 40.62%:  94%|█████████▍| 29176/31058 [1:27:51<05:44,  5.46it/s]IOPub message rate exceeded.\n",
      "The Jupyter server will temporarily stop sending output\n",
      "to the client in order to avoid crashing it.\n",
      "To change this limit, set the config variable\n",
      "`--ServerApp.iopub_msg_rate_limit`.\n",
      "\n",
      "Current values:\n",
      "ServerApp.iopub_msg_rate_limit=1000.0 (msgs/sec)\n",
      "ServerApp.rate_limit_window=3.0 (secs)\n",
      "\n",
      "epoch 0 iter 31057: train loss 0.94542, accuracy 40.00%: 100%|██████████| 31058/31058 [1:33:31<00:00,  5.53it/s]\n"
     ]
    }
   ],
   "source": [
    "word_handler.train(word_loader, test_lambda=lambda pred, y: (pred == y)[b:, -3:].all(dim=-1))"
   ]
  },
  {
   "cell_type": "code",
   "execution_count": 28,
   "id": "080284fa",
   "metadata": {},
   "outputs": [],
   "source": [
    "torch.save(word_handler.decoder_transformer.state_dict(), \"test\")"
   ]
  },
  {
   "cell_type": "code",
   "execution_count": 140,
   "id": "58d538cf",
   "metadata": {},
   "outputs": [
    {
     "data": {
      "text/plain": [
       "<All keys matched successfully>"
      ]
     },
     "execution_count": 140,
     "metadata": {},
     "output_type": "execute_result"
    }
   ],
   "source": [
    "word_handler.decoder_transformer.load_state_dict(torch.load(\"test\"))"
   ]
  },
  {
   "cell_type": "code",
   "execution_count": 62,
   "id": "f037947d",
   "metadata": {},
   "outputs": [
    {
     "name": "stdout",
     "output_type": "stream",
     "text": [
      "so gazed on now,\n",
      "Will be a tattered weed of small worth held:\n",
      "Then being asked, where all thy beauty lies,\n",
      "Where all the treasure of thy lusty days;\n",
      "To say, within \n"
     ]
    }
   ],
   "source": [
    "x, y = pd[1001]\n",
    "def pretty_print_vocab(v):\n",
    "  print(\"\".join(list(map(lambda x: pd.index_to_word[x],v.tolist()))))\n",
    "\n",
    "pretty_print_vocab(x)"
   ]
  },
  {
   "cell_type": "code",
   "execution_count": 63,
   "id": "438926c9",
   "metadata": {},
   "outputs": [
    {
     "name": "stdout",
     "output_type": "stream",
     "text": [
      " gazed on now,\n",
      "Will be a tattered weed of small worth held:\n",
      "Then being asked, where all thy beauty lies,\n",
      "Where all the treasure of thy lusty days;\n",
      "To say, within thine\n"
     ]
    }
   ],
   "source": [
    "pretty_print_vocab(y)"
   ]
  },
  {
   "cell_type": "code",
   "execution_count": 101,
   "id": "bec1a617",
   "metadata": {},
   "outputs": [],
   "source": [
    "def top_k_logits(logits, k):\n",
    "    v, ix = torch.topk(logits, k)\n",
    "    out = logits.clone()\n",
    "    out[out < v[:, [-1]]] = -float('Inf')\n",
    "    return out\n",
    "\n",
    "@torch.no_grad()\n",
    "def sample(model, x, steps, temperature=1.0, sample=False, top_k=None):\n",
    "    \"\"\"\n",
    "    take a conditioning sequence of indices in x (of shape (b,t)) and predict the next token in\n",
    "    the sequence, feeding the predictions back into the model each time\n",
    "    \"\"\"\n",
    "    model.eval()\n",
    "    for k in range(steps):\n",
    "        x_cond = x if x.size(1) <= 64 else x[:, -64:] # crop context if needed\n",
    "        logits = model(x_cond)\n",
    "        # pluck the logits at the final step and scale by temperature\n",
    "        logits = logits[:, -1, :] / temperature\n",
    "        # optionally crop probabilities to only the top k options\n",
    "        if top_k is not None:\n",
    "            logits = top_k_logits(logits, top_k)\n",
    "        # apply softmax to convert to probabilities\n",
    "        probs = logits.softmax(dim=-1)\n",
    "        # sample from the distribution or take the most likely\n",
    "        if sample:\n",
    "            ix = torch.multinomial(probs, num_samples=1)\n",
    "        else:\n",
    "            _, ix = torch.topk(probs, k=1, dim=-1)\n",
    "        # append to the sequence and continue\n",
    "        x = torch.cat((x, ix), dim=1)\n",
    "\n",
    "    return x"
   ]
  },
  {
   "cell_type": "code",
   "execution_count": 131,
   "id": "5fc25286",
   "metadata": {},
   "outputs": [
    {
     "name": "stdout",
     "output_type": "stream",
     "text": [
      " SCENE I. Rome. A street\n",
      "\n",
      "Enter a company of mutinous citizens, with staves, clubs, and other\n",
      "weapons\n",
      "\n",
      "  FIRST CITIZEN. Before we proceed any further, hear me speak.\n",
      "  ALL. Speak, speak.\n",
      "  FIRST CITIZEN. YOU are all resolv'd.\n",
      "  THIRD CITIZEN. We are ever true of him.\n",
      "  THIRD CITIZEN. And so did I; and there is no great need of danger.\n",
      "    If he were living, I would die to heaven.\n",
      "    You would not do me good on a living prince,\n",
      "    But I should live to be your father in love.\n",
      "  SILVIA. O Eglamour, thou art a gentleman-\n",
      "    Think not I flatter, for my sake so much\n",
      "    As I have ever been my father in Rome;\n",
      "    And never shall he have thy land a living child.\n",
      "    The day shall be a last, and the last night shall lie,\n",
      "    And the last hour that ever I shall see thee.\n",
      "    O, let me kiss my sovereign, and entreat me.\n",
      "  QUEEN MARGARET. Nay, stay not, but kill me too soon.\n",
      "    No longer stay longer longer to stay all the town\n",
      "    Till I have learnt thy head for this world.\n",
      "  QUEEN MARGARET. Hie thee to hell for shame and leave this\n",
      "    world,\n",
      "    Thou cacodemon; there thy kingdom is.\n",
      "  RIVERS. My Lord of Gloucester, in those busy days\n",
      "    Which here you urge in the act of men;\n",
      "    And for my name is Walter Whitmore.\n",
      "    How now! Why start'st thou? What colour is this cloak of?\n",
      "  SIMPCOX. Red, master; red as blood.\n",
      "  GLOUCESTER. Why, that's well said. What \n"
     ]
    }
   ],
   "source": [
    "context = \" SCENE \"\n",
    "x = torch.tensor([pd.word_to_index[s] for s in re.split(r\"\\b\", context)], dtype=torch.long)[None,...].to(word_handler.device)\n",
    "y = sample(word_handler.decoder_transformer, x, 500, temperature=1.0, sample=True, top_k=1)[0]\n",
    "completion = ''.join([pd.index_to_word[int(i)] for i in y])\n",
    "print(completion)"
   ]
  },
  {
   "cell_type": "code",
   "execution_count": 123,
   "id": "5e9b20f0",
   "metadata": {},
   "outputs": [
    {
     "data": {
      "text/plain": [
       "True"
      ]
     },
     "execution_count": 123,
     "metadata": {},
     "output_type": "execute_result"
    }
   ],
   "source": [
    "def in_vocab(word):\n",
    "  return word in word_handler.vocab.values()\n",
    "\n",
    "in_vocab(\"hark\")"
   ]
  },
  {
   "cell_type": "code",
   "execution_count": 143,
   "id": "dbe26fc5",
   "metadata": {},
   "outputs": [
    {
     "data": {
      "text/plain": [
       "'I'"
      ]
     },
     "execution_count": 143,
     "metadata": {},
     "output_type": "execute_result"
    }
   ],
   "source": [
    "context = \" SCENE \"\n",
    "x = torch.tensor([pd.word_to_index[s] for s in re.split(r\"\\b\", context)], dtype=torch.long)[None,...].to(word_handler.device)\n",
    "word_handler.sample(x)[-1]"
   ]
  }
 ],
 "metadata": {
  "accelerator": "GPU",
  "colab": {
   "collapsed_sections": [],
   "include_colab_link": true,
   "provenance": []
  },
  "kernelspec": {
   "display_name": "Python 3 (ipykernel)",
   "language": "python",
   "name": "python3"
  },
  "language_info": {
   "codemirror_mode": {
    "name": "ipython",
    "version": 3
   },
   "file_extension": ".py",
   "mimetype": "text/x-python",
   "name": "python",
   "nbconvert_exporter": "python",
   "pygments_lexer": "ipython3",
   "version": "3.8.13"
  },
  "vscode": {
   "interpreter": {
    "hash": "a955a5d6d72dcc9422ec8add5a84d6ce2101e50b4aaf9a0a8386fcbc86cc6bec"
   }
  }
 },
 "nbformat": 4,
 "nbformat_minor": 5
}
