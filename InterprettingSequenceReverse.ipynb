{
 "cells": [
  {
   "cell_type": "code",
   "execution_count": 103,
   "metadata": {},
   "outputs": [],
   "source": [
    "from Decoder_Transformer import DecoderTransformerWrapper as dtw\n",
    "import torch\n",
    "import numpy as np\n",
    "import torch\n",
    "import torch.nn as nn\n",
    "from torch.utils.data import Dataset\n",
    "from torch.utils.data.dataloader import DataLoader\n",
    "import matplotlib.pyplot as plt"
   ]
  },
  {
   "cell_type": "code",
   "execution_count": 36,
   "metadata": {},
   "outputs": [],
   "source": [
    "class ReverseDataset(Dataset):\n",
    "    def __init__(self, length):\n",
    "        self.length = length\n",
    "        self.size = 10**length # total number of possible combinations\n",
    "\n",
    "    def __len__(self):\n",
    "        return self.size\n",
    "\n",
    "    def __getitem__(self, idx):\n",
    "        x = torch.randint(10, size=(self.length,), dtype=torch.long)\n",
    "        y = torch.flip(x,(-1,))\n",
    "        return x, y"
   ]
  },
  {
   "cell_type": "code",
   "execution_count": 37,
   "metadata": {},
   "outputs": [
    {
     "name": "stdout",
     "output_type": "stream",
     "text": [
      "device: cpu\n"
     ]
    }
   ],
   "source": [
    "rd = ReverseDataset(6)\n",
    "\n",
    "batch_size = 2048\n",
    "train_loader = DataLoader(\n",
    "    rd, shuffle=True, pin_memory=True, batch_size=batch_size\n",
    ")\n",
    "device =torch.device(\"cuda\" if torch.cuda.is_available() else \"cpu\")\n",
    "print(\"device:\", device)"
   ]
  },
  {
   "cell_type": "code",
   "execution_count": 114,
   "metadata": {},
   "outputs": [
    {
     "name": "stderr",
     "output_type": "stream",
     "text": [
      "epoch 0 iter 488: train loss 1.46209, accuracy 49.31%: 100%|██████████| 489/489 [01:13<00:00,  6.63it/s]\n"
     ]
    }
   ],
   "source": [
    "handler = dtw.from_parameters(d_model=128,\n",
    "                                    vocab=range(10),\n",
    "                                    height=1,\n",
    "                                    d_ffl=512, \n",
    "                                    dropout=0.1, \n",
    "                                    heads=2)\n",
    "handler.train(train_loader, test_lambda=lambda pred, y: (pred == y)[:, -3:].all(dim=-1))"
   ]
  },
  {
   "cell_type": "code",
   "execution_count": 115,
   "metadata": {},
   "outputs": [
    {
     "name": "stderr",
     "output_type": "stream",
     "text": [
      "iter 488: test accuracy 90.13%: 100%|██████████| 489/489 [00:23<00:00, 20.50it/s]\n"
     ]
    }
   ],
   "source": [
    "handler.test(train_loader, test_lambda=lambda pred, y: (pred == y)[:, -3:].all(dim=-1))"
   ]
  },
  {
   "cell_type": "code",
   "execution_count": 116,
   "metadata": {},
   "outputs": [],
   "source": [
    "tokens = {}\n",
    "attn = {}\n",
    "\n",
    "def get_features(name):\n",
    "    def hook(model, input, output):\n",
    "        tokens[name] = handler.decoder_transformer.lin(output.detach())\n",
    "        attn[name] = model.mha.attn.detach()\n",
    "    return hook"
   ]
  },
  {
   "cell_type": "code",
   "execution_count": 117,
   "metadata": {},
   "outputs": [],
   "source": [
    "handles = [handler.decoder_transformer.decoder_stack.decoder_blocks[i].register_forward_hook(get_features(f'Layer {i}')) for i in range(len(handler.decoder_transformer.decoder_stack.decoder_blocks))]"
   ]
  },
  {
   "cell_type": "code",
   "execution_count": 84,
   "metadata": {},
   "outputs": [],
   "source": [
    "for h in handles:\n",
    "  h.remove()\n",
    "handles = []"
   ]
  },
  {
   "cell_type": "code",
   "execution_count": 118,
   "metadata": {},
   "outputs": [
    {
     "data": {
      "text/plain": [
       "[<torch.utils.hooks.RemovableHandle at 0x17c963c70>]"
      ]
     },
     "execution_count": 118,
     "metadata": {},
     "output_type": "execute_result"
    }
   ],
   "source": [
    "handles"
   ]
  },
  {
   "cell_type": "code",
   "execution_count": 119,
   "metadata": {},
   "outputs": [
    {
     "data": {
      "text/plain": [
       "[1, 0, 1, 2, 1, 0]"
      ]
     },
     "execution_count": 119,
     "metadata": {},
     "output_type": "execute_result"
    }
   ],
   "source": [
    "tokens = {}\n",
    "attn = {}\n",
    "x = torch.tensor([0, 1, 2, 3, 4, 5])\n",
    "handler.sample(x)"
   ]
  },
  {
   "cell_type": "code",
   "execution_count": 129,
   "metadata": {},
   "outputs": [
    {
     "data": {
      "image/png": "[encoded data removed]",
      "text/plain": [
       "<Figure size 640x480 with 1 Axes>"
      ]
     },
     "metadata": {},
     "output_type": "display_data"
    }
   ],
   "source": [
    "def get_attn(layer, head):\n",
    "  return attn[f'Layer {layer}'][0][head]\n",
    "\n",
    "def get_tokens(layer):\n",
    "  return tokens[f'Layer {layer}'][0]\n",
    "\n",
    "plt.imshow(get_tokens(layer=0), cmap='Blues', interpolation='nearest')\n",
    "plt.show()"
   ]
  },
  {
   "cell_type": "code",
   "execution_count": 290,
   "metadata": {},
   "outputs": [],
   "source": [
    "class transformer_vocab():\n",
    "  def __init__(self, vocab):\n",
    "    \"\"\"Takes a list of unique words in vocab\"\"\"\n",
    "    self.vocab = vocab\n",
    "    self.indextoword = {i : word for i, word in enumerate(self.vocab)}\n",
    "    self.wordtoindex = {word: i for i, word in enumerate(self.vocab)} \n",
    "  \n",
    "  def human_readable(self, l):\n",
    "    return [self.indextoword[i.item()] for i in l]\n",
    "  \n",
    "  def machine_readable(self, l):\n",
    "    return [self.wordtoindex[i] for i in l]\n",
    "\n",
    "class transformer_trace():\n",
    "  def __init__(self, tokens, attn, input, logits, vocab):\n",
    "    self.tokens = tokens\n",
    "    self.attn = attn\n",
    "    self.input = input\n",
    "    self.logits = logits\n",
    "    self.vocab = vocab\n",
    "\n",
    "  def human_readable_input(self):\n",
    "    return [self.vocab.indextoword[i.item()] for i in self.input]\n",
    "\n",
    "  def get_attn(self, layer, head):\n",
    "    return self.attn[f'Layer {layer}'][0][head]\n",
    "  \n",
    "  def plot_attn(self, layer, head):\n",
    "    plt.imshow(self.get_attn(layer=layer, head=head), interpolation='nearest')\n",
    "    plt.ylabel(\"Attention from\")\n",
    "    plt.xlabel(\"Attention to\")\n",
    "    plt.xticks(range(len(self.input)), self.vocab.human_readable(self.input))\n",
    "    plt.yticks(range(len(self.input)), self.vocab.human_readable(self.input))\n",
    "    plt.show()\n",
    "\n",
    "  def get_tokens(self, layer):\n",
    "    return self.tokens[f'Layer {layer}'][0]\n",
    "  \n",
    "  def plot_tokens(self, layer):\n",
    "    plt.imshow(self.get_tokens(layer=layer), interpolation='nearest')\n",
    "    plt.ylabel(\"Sequence position\")\n",
    "    plt.xlabel(\"Token\")\n",
    "    plt.xticks(range(len(self.vocab.vocab)), self.vocab.vocab)\n",
    "    plt.yticks(range(len(self.input)))\n",
    "    plt.show()\n",
    "  \n",
    "  def top_k_logits(self, k):\n",
    "    v, ix = torch.topk(self.logits, k, dim=-1)\n",
    "    out = self.logits.clone()\n",
    "    out[out < v] = -float('Inf')\n",
    "    self.logits = out\n",
    "    return self\n",
    "  \n",
    "  def sample(self):\n",
    "    # apply softmax to convert to probabilities\n",
    "    probs = self.logits[0].softmax(dim=-1)\n",
    "    # sample from the distribution or take the most likely\n",
    "    ix = torch.multinomial(probs, num_samples=1)\n",
    "    return([self.vocab.wordtoindex[i.item()] for i in ix])\n",
    "  \n",
    "  def __str__(self):\n",
    "    \" \".join(self.human_readable_input())"
   ]
  },
  {
   "cell_type": "code",
   "execution_count": 280,
   "metadata": {},
   "outputs": [],
   "source": [
    "from Decoder_Transformer import DecoderTransformer\n",
    "import torch\n",
    "import torch.nn as nn\n",
    "from torch import optim\n",
    "import math, copy\n",
    "from tqdm import tqdm\n",
    "\n",
    "class DecoderTransformerHandler():\n",
    "    def __init__(self, model, vocab):\n",
    "        self.device = torch.device(\"cuda\" if torch.cuda.is_available() else \"cpu\")\n",
    "        self.decoder_transformer = model.to(self.device)\n",
    "        self.losses = []\n",
    "        self.vocab = vocab\n",
    "\n",
    "    @classmethod\n",
    "    def from_parameters(cls, d_model, vocab, d_ffl=None, height=4, heads=8, dropout=0.1, max_len=5000):\n",
    "        #vocab should be a list of allowed values\n",
    "        if d_ffl is None:\n",
    "            d_ffl = d_model * 4\n",
    "        model = DecoderTransformer(\n",
    "          d_model=d_model, \n",
    "          vocab=len(vocab), \n",
    "          N=height,\n",
    "          d_ffl=d_ffl, \n",
    "          dropout=dropout, \n",
    "          h=heads,\n",
    "          max_len=max_len\n",
    "        )\n",
    "        return cls(model, vocab)\n",
    "\n",
    "    def train(self, train_loader, lr=1e-4, max_epochs=1, loss_fn=nn.CrossEntropyLoss(), test_lambda=None):\n",
    "        self.decoder_transformer.train()\n",
    "        optimizer = optim.Adam(self.decoder_transformer.parameters(), lr=lr)\n",
    "        self.losses = []\n",
    "        for epoch in range(max_epochs):\n",
    "            pbar = tqdm(enumerate(train_loader), total=len(train_loader))\n",
    "            for it, (x, y) in pbar:\n",
    "                x = x.to(self.device)\n",
    "                y = y.to(self.device)\n",
    "\n",
    "                optimizer.zero_grad()\n",
    "\n",
    "                logits = self.decoder_transformer(x)\n",
    "                loss = loss_fn(logits.view(-1, logits.size(-1)), y.view(-1))\n",
    "                loss.backward()\n",
    "                self.losses.append(loss.cpu().detach().numpy())\n",
    "\n",
    "                pred = logits.argmax(dim=-1)\n",
    "                if test_lambda is None:\n",
    "                    correct = (pred == y).type(torch.float).sum().item()\n",
    "                else:\n",
    "                    correct = test_lambda(pred, y).type(torch.float).sum().item()\n",
    "                accuracy = correct / x.size(0)\n",
    "                optimizer.step()\n",
    "                pbar.set_description(f\"epoch {epoch} iter {it}: train loss {loss.item():.5f}, accuracy {accuracy*100:0.2f}%\")\n",
    "  \n",
    "    def test(self, test_loader, test_lambda=None):\n",
    "        self.decoder_transformer.eval()\n",
    "        correct = 0\n",
    "        n = 0\n",
    "        with torch.no_grad():\n",
    "            pbar = tqdm(enumerate(test_loader), total=len(test_loader))\n",
    "            for it, (x, y) in pbar:\n",
    "                x = x.to(self.device)\n",
    "                y = y.to(self.device)\n",
    "                n += x.size(0)\n",
    "                logits = self.decoder_transformer(x)\n",
    "                pred = logits.argmax(dim=-1)\n",
    "                if test_lambda is None:\n",
    "                    correct += (pred == y).type(torch.float).sum().item()\n",
    "                else:\n",
    "                    correct += test_lambda(pred, y).type(torch.float).sum().item()\n",
    "                accuracy = correct / n\n",
    "                pbar.set_description(f\"iter {it}: test accuracy {accuracy*100:.2f}%\")    \n",
    "    \n",
    "    def __call__(self, x):\n",
    "        self.decoder_transformer.eval()\n",
    "        x = x.to(self.device)\n",
    "        if len(x.size()) == 1:\n",
    "            x = x.unsqueeze(0)\n",
    "        with torch.no_grad():\n",
    "            logits = self.decoder_transformer(x)\n",
    "        return logits\n",
    "    \n",
    "    def interpreted_trace(self, tokens):\n",
    "        \"\"\"tokens is a sentence of tokens\"\"\"\n",
    "        x = torch.tensor([self.vocab.wordtoindex[token] for token in tokens])\n",
    "        tokens = {}\n",
    "        attn = {}\n",
    "        def get_features(name):\n",
    "            def hook(model, input, output):\n",
    "                tokens[name] = handler.decoder_transformer.lin(output.detach())\n",
    "                attn[name] = model.mha.attn.detach()\n",
    "            return hook\n",
    "        handles = [self.decoder_transformer.decoder_stack.decoder_blocks[i].register_forward_hook(get_features(f'Layer {i}')) for i in range(len(self.decoder_transformer.decoder_stack.decoder_blocks))]\n",
    "\n",
    "        logits = self(x)\n",
    "        for h in handles:\n",
    "            h.remove()\n",
    "        \n",
    "        return transformer_trace(tokens, attn, x, logits, self.vocab)\n",
    "\n",
    "    def to(self, device):\n",
    "        self.device = device\n",
    "        self.decoder_transformer.to(device)"
   ]
  },
  {
   "cell_type": "code",
   "execution_count": 136,
   "metadata": {},
   "outputs": [
    {
     "name": "stderr",
     "output_type": "stream",
     "text": [
      "epoch 0 iter 488: train loss 1.49412, accuracy 42.53%: 100%|██████████| 489/489 [01:12<00:00,  6.76it/s]\n"
     ]
    }
   ],
   "source": [
    "handler = DecoderTransformerHandler.from_parameters(d_model=128,\n",
    "                                    vocab=transformer_vocab(['a', 'b', 'c', 'd', 'e', 'f', 'g', 'h', 'i', 'j']),\n",
    "                                    height=1,\n",
    "                                    d_ffl=512, \n",
    "                                    dropout=0.1, \n",
    "                                    heads=2)\n",
    "handler.train(train_loader, test_lambda=lambda pred, y: (pred == y)[:, -3:].all(dim=-1))"
   ]
  },
  {
   "cell_type": "code",
   "execution_count": 291,
   "metadata": {},
   "outputs": [],
   "source": [
    "handler = DecoderTransformerHandler(handler.decoder_transformer, transformer_vocab(['a', 'b', 'c', 'd', 'e', 'f', 'g', 'h', 'i', 'j']))"
   ]
  },
  {
   "cell_type": "code",
   "execution_count": 292,
   "metadata": {},
   "outputs": [],
   "source": [
    "trace = handler.interpreted_trace(['a','b','c','d','e','f'])"
   ]
  },
  {
   "cell_type": "code",
   "execution_count": 293,
   "metadata": {},
   "outputs": [
    {
     "data": {
      "image/png": "[encoded data removed]",
      "text/plain": [
       "<Figure size 640x480 with 1 Axes>"
      ]
     },
     "metadata": {},
     "output_type": "display_data"
    }
   ],
   "source": [
    "trace.plot_tokens(0)"
   ]
  },
  {
   "cell_type": "code",
   "execution_count": null,
   "metadata": {},
   "outputs": [],
   "source": []
  }
 ],
 "metadata": {
  "kernelspec": {
   "display_name": "Python 3.8.13 ('torch-gpu')",
   "language": "python",
   "name": "python3"
  },
  "language_info": {
   "codemirror_mode": {
    "name": "ipython",
    "version": 3
   },
   "file_extension": ".py",
   "mimetype": "text/x-python",
   "name": "python",
   "nbconvert_exporter": "python",
   "pygments_lexer": "ipython3",
   "version": "3.8.13"
  },
  "orig_nbformat": 4,
  "vscode": {
   "interpreter": {
    "hash": "a955a5d6d72dcc9422ec8add5a84d6ce2101e50b4aaf9a0a8386fcbc86cc6bec"
   }
  }
 },
 "nbformat": 4,
 "nbformat_minor": 2
}
