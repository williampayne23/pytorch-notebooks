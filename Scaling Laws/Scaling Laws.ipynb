{
 "cells": [
  {
   "cell_type": "code",
   "execution_count": 52,
   "id": "fb39a618-6f4d-4e37-8536-4f38b592f5e0",
   "metadata": {},
   "outputs": [],
   "source": [
    "import torch\n",
    "import torch.nn as nn\n",
    "import torch.nn.functional as F\n",
    "import torchvision\n",
    "import torchvision.transforms as transforms\n",
    "import torch.optim as optim\n",
    "from tqdm import tqdm\n",
    "import math\n",
    "import pandas as pd\n",
    "import matplotlib.pyplot as plt"
   ]
  },
  {
   "cell_type": "code",
   "execution_count": 2,
   "id": "3a0ec306-102d-40b2-9861-17bd94ae9561",
   "metadata": {},
   "outputs": [],
   "source": [
    "transform = transforms.Compose(\n",
    "    [transforms.ToTensor()]) #transforms.Normalize((0.5, 0.5, 0.5), (0.5, 0.5, 0.5)\n",
    "\n",
    "batch_size = 4\n",
    "\n",
    "trainset = torchvision.datasets.MNIST(root='./data', train=True,\n",
    "                                        download=True, transform=transform)\n",
    "trainloader = torch.utils.data.DataLoader(trainset, batch_size=batch_size,\n",
    "                                          shuffle=True)\n",
    "\n",
    "testset = torchvision.datasets.MNIST(root='./data', train=False,\n",
    "                                       download=True, transform=transform)\n",
    "testloader = torch.utils.data.DataLoader(testset, batch_size=batch_size,\n",
    "                                         shuffle=False)"
   ]
  },
  {
   "cell_type": "code",
   "execution_count": 3,
   "id": "41ff5864-906b-40a3-8563-5ea993284593",
   "metadata": {},
   "outputs": [
    {
     "data": {
      "image/png": "[encoded data removed]",
      "text/plain": [
       "<Figure size 432x288 with 1 Axes>"
      ]
     },
     "metadata": {
      "needs_background": "light"
     },
     "output_type": "display_data"
    },
    {
     "name": "stdout",
     "output_type": "stream",
     "text": [
      "3 4 3 4\n"
     ]
    }
   ],
   "source": [
    "import matplotlib.pyplot as plt\n",
    "import numpy as np\n",
    "\n",
    "# functions to show an image\n",
    "\n",
    "\n",
    "def imshow(img):\n",
    "    img = img / 2 + 0.5     # unnormalize\n",
    "    npimg = img.numpy()\n",
    "    plt.imshow(np.transpose(npimg, (1, 2, 0)))\n",
    "    plt.show()\n",
    "\n",
    "\n",
    "# get some random training images\n",
    "images, labels = next(iter(trainloader))\n",
    "\n",
    "# show images\n",
    "imshow(torchvision.utils.make_grid(images))\n",
    "# print labels\n",
    "print(' '.join(f'{labels[j]}' for j in range(batch_size)))"
   ]
  },
  {
   "cell_type": "code",
   "execution_count": 4,
   "id": "c5c12fff-eda5-4627-8521-f521f80af253",
   "metadata": {},
   "outputs": [
    {
     "data": {
      "text/plain": [
       "(torch.Size([4, 1, 28, 28]), torch.Size([4, 3, 8, 8]))"
      ]
     },
     "execution_count": 4,
     "metadata": {},
     "output_type": "execute_result"
    }
   ],
   "source": [
    "images.size()\n",
    "# 28, 28 images\n",
    "# Into a conv \n",
    "test_conv = nn.Conv2d(1, 3, 3)\n",
    "test_pool = nn.MaxPool2d(3,3)\n",
    "out = F.relu(test_pool(test_conv(images)))\n",
    "images.size(), out.size()\n"
   ]
  },
  {
   "cell_type": "code",
   "execution_count": 5,
   "id": "0c8443f6-4970-48f8-85e8-07d3dbc8dd20",
   "metadata": {},
   "outputs": [],
   "source": [
    "\"\"\"\n",
    "X: 1, 28, 28\n",
    "CONV: co, 26, 26\n",
    "Pool: co, 8, 8\n",
    "FF: co*64 -> 10\n",
    "\n",
    "\"\"\"\n",
    "\n",
    "class CNN(nn.Module):\n",
    "    def __init__(self, scale, dropout=0):\n",
    "        super().__init__()\n",
    "        self.dropout = nn.Dropout(dropout)\n",
    "        channels_out = int(scale * 3)\n",
    "        self.width = channels_out * 64\n",
    "        self.conv1 = nn.Conv2d(1, channels_out, 3)\n",
    "        self.pool = nn.MaxPool2d(3,3)\n",
    "        self.ff1 = nn.Linear(self.width, 10)\n",
    "    \n",
    "    def forward(self, x):\n",
    "        out = F.relu(self.pool(self.conv1(x)))\n",
    "        out = out.view(-1, self.width)\n",
    "        out = self.dropout(out)\n",
    "        return self.ff1(out) "
   ]
  },
  {
   "cell_type": "code",
   "execution_count": 33,
   "id": "6f3652d4-0deb-4872-b4a3-9b8d56c002c8",
   "metadata": {},
   "outputs": [
    {
     "data": {
      "text/plain": [
       "device(type='cuda')"
      ]
     },
     "execution_count": 33,
     "metadata": {},
     "output_type": "execute_result"
    }
   ],
   "source": [
    "model = CNN(1)\n",
    "device = torch.device('cuda' if torch.cuda.is_available() else 'cpu')\n",
    "device"
   ]
  },
  {
   "cell_type": "code",
   "execution_count": 34,
   "id": "9debed88-fc04-442e-ac8a-4bcad87de888",
   "metadata": {
    "scrolled": true,
    "tags": []
   },
   "outputs": [
    {
     "name": "stderr",
     "output_type": "stream",
     "text": [
      "[14500] loss: 0.267: 100%|██████████| 15000/15000 [00:18<00:00, 797.76it/s]\n"
     ]
    }
   ],
   "source": [
    "\n",
    "model.to(device)\n",
    "loss_fn = nn.CrossEntropyLoss()\n",
    "optimizer = optim.SGD(model.parameters(), lr=0.001, momentum=0.9)\n",
    "running_loss = 0\n",
    "pbar = tqdm(enumerate(trainloader), total=len(trainloader))\n",
    "for i, (images, labels) in pbar:\n",
    "    optimizer.zero_grad()\n",
    "    images = images.to(device)    \n",
    "    labels = labels.to(device)\n",
    "\n",
    "\n",
    "    logits = model(images)\n",
    "    loss = loss_fn(logits, labels)\n",
    "    loss.backward()\n",
    "    optimizer.step()\n",
    "    \n",
    "    running_loss += loss.item()\n",
    "    if i % 500 == 0:    # print every 2000 mini-batches\n",
    "        pbar.set_description(f'[{i:5d}] loss: {running_loss / 500:.3f}')\n",
    "        running_loss = 0.0"
   ]
  },
  {
   "cell_type": "code",
   "execution_count": 35,
   "id": "06ac1973-ff18-4d94-9b5c-8080bfc09f78",
   "metadata": {},
   "outputs": [
    {
     "data": {
      "image/png": "[encoded data removed]",
      "text/plain": [
       "<Figure size 432x288 with 1 Axes>"
      ]
     },
     "metadata": {
      "needs_background": "light"
     },
     "output_type": "display_data"
    },
    {
     "name": "stdout",
     "output_type": "stream",
     "text": [
      "Labels \t\t7 2 1 0\n",
      "Predictions \t7 2 1 0\n"
     ]
    }
   ],
   "source": [
    "def test_model(model):\n",
    "    images, labels = next(iter(testloader))\n",
    "    images = images.to(device)\n",
    "    label = labels.to(device)\n",
    "    # show images\n",
    "    imshow(torchvision.utils.make_grid(images).detach().cpu())\n",
    "    # print labels\n",
    "    labels_string = ' '.join(f'{labels[j]}' for j in range(batch_size))\n",
    "    print(f'Labels \\t\\t{labels_string}')\n",
    "    preds_string = ' '.join(f'{l.item()}' for l in model(images).argmax(dim=-1))\n",
    "    print(f'Predictions \\t{preds_string}')\n",
    "test_model(model)"
   ]
  },
  {
   "cell_type": "code",
   "execution_count": 37,
   "id": "39e20e76-7e57-43e4-9832-66fb8f195c54",
   "metadata": {},
   "outputs": [
    {
     "name": "stderr",
     "output_type": "stream",
     "text": [
      "[ 2000] loss: 0.263: 100%|██████████| 2500/2500 [00:01<00:00, 1553.25it/s]\n"
     ]
    },
    {
     "data": {
      "text/plain": [
       "611.8500768863014"
      ]
     },
     "execution_count": 37,
     "metadata": {},
     "output_type": "execute_result"
    }
   ],
   "source": [
    "running_loss = 0\n",
    "pbar = tqdm(enumerate(testloader), total=len(testloader))\n",
    "for i, (images, labels) in pbar:\n",
    "    images = images.to(device)\n",
    "    labels = labels.to(device)\n",
    "    with torch.no_grad():\n",
    "        logits = model(images)\n",
    "        loss = loss_fn(logits, labels)\n",
    "    \n",
    "    running_loss += loss.item()\n",
    "    if i > 0 and i % 500 == 0:\n",
    "        pbar.set_description(f'[{i:5d}] loss: {running_loss / i:.3f}')\n",
    "\n",
    "running_loss"
   ]
  },
  {
   "cell_type": "code",
   "execution_count": 24,
   "id": "c6f42f97-9fcf-427b-b572-e1005dc2a64e",
   "metadata": {},
   "outputs": [
    {
     "data": {
      "text/plain": [
       "<torch.utils.data.dataset.Subset at 0x7fd6d8411250>"
      ]
     },
     "execution_count": 24,
     "metadata": {},
     "output_type": "execute_result"
    }
   ],
   "source": [
    "torch.utils.data.random_split(trainloader, [len(trainloader)//2, len(trainloader) - len(trainloader)//2], generator=torch.Generator().manual_seed(42))[0]"
   ]
  },
  {
   "cell_type": "code",
   "execution_count": 47,
   "id": "17cc4e58-1c86-4738-9f79-9df4a8452525",
   "metadata": {},
   "outputs": [],
   "source": [
    "def train_and_test_model(model_scale, dataset_prop, dropout=0):\n",
    "    model = CNN(model_scale, dropout)\n",
    "    model.to(device)\n",
    "    \n",
    "    loss_fn = nn.CrossEntropyLoss()\n",
    "    fan_in = nn.init._calculate_fan_in_and_fan_out(model.conv1.weight)[0]\n",
    "    lr = 0.01/math.sqrt(fan_in)\n",
    "    \n",
    "    optimizer = optim.SGD(model.parameters(), lr=lr, momentum=0.9)\n",
    "    \n",
    "    \n",
    "    subset_size = math.floor(len(trainset) * dataset_prop)\n",
    "    trainset_subset = torch.utils.data.random_split(trainset, [subset_size, len(trainset) - subset_size], generator=torch.Generator().manual_seed(42))[0]\n",
    "    trainloader_subset = torch.utils.data.DataLoader(trainset_subset, batch_size=batch_size,\n",
    "                                          shuffle=True)\n",
    "    \n",
    "    #TRAIN\n",
    "    print(f\"Training model with scale {model_scale:.2f}, dataset size {dataset_prop:.2f}\")\n",
    "    running_loss = 0\n",
    "    pbar = tqdm(enumerate(trainloader_subset), total=len(trainloader_subset))\n",
    "    for i, (images, labels) in pbar:\n",
    "        images = images.to(device)\n",
    "        labels = labels.to(device)\n",
    "        \n",
    "        optimizer.zero_grad()\n",
    "\n",
    "        logits = model(images)\n",
    "        loss = loss_fn(logits, labels)\n",
    "        loss.backward()\n",
    "        optimizer.step()\n",
    "\n",
    "        running_loss += loss.item()\n",
    "        if i % 500 == 0:    # print every 2000 mini-batches\n",
    "            pbar.set_description(f'[{i:5d}] loss: {running_loss / 500:.3f}')\n",
    "            running_loss = 0.0\n",
    "    \n",
    "    #TEST\n",
    "    print(f\"Testing model with scale {model_scale:.2f}, dataset size {dataset_prop:.2f}\")\n",
    "    running_loss = 0\n",
    "    running_accuracy = 0\n",
    "    pbar = tqdm(enumerate(testloader), total=len(testloader))\n",
    "    for i, (images, labels) in pbar:\n",
    "        images = images.to(device)\n",
    "        labels = labels.to(device)\n",
    "        with torch.no_grad():\n",
    "            logits = model(images)\n",
    "            loss = loss_fn(logits, labels)\n",
    "    \n",
    "        running_accuracy += (logits.argmax(-1) == labels).all().item()\n",
    "        running_loss += loss.item()\n",
    "        if i > 0 and i % 500 == 0:\n",
    "            pbar.set_description(f'[{i:5d}] loss: {running_loss / i:.3f} accuracy: {running_accuracy *100 / i:.2f}%')\n",
    "    return running_loss / len(testloader), running_accuracy / len(testloader)\n",
    "\n",
    "\n",
    "#train_and_test_model(16, 0.5)"
   ]
  },
  {
   "cell_type": "code",
   "execution_count": null,
   "id": "5fb33e48-e422-4162-b3fe-8429e94082d1",
   "metadata": {},
   "outputs": [],
   "source": []
  },
  {
   "cell_type": "code",
   "execution_count": 40,
   "id": "0e9c11bf-7441-428e-80ca-f86db71d0f64",
   "metadata": {},
   "outputs": [
    {
     "ename": "NameError",
     "evalue": "name 'compute_used' is not defined",
     "output_type": "error",
     "traceback": [
      "\u001b[0;31m---------------------------------------------------------------------------\u001b[0m",
      "\u001b[0;31mNameError\u001b[0m                                 Traceback (most recent call last)",
      "Input \u001b[0;32mIn [40]\u001b[0m, in \u001b[0;36m<cell line: 1>\u001b[0;34m()\u001b[0m\n\u001b[0;32m----> 1\u001b[0m plt\u001b[38;5;241m.\u001b[39mscatter(\u001b[43mcompute_used\u001b[49m, model_loss)\n\u001b[1;32m      2\u001b[0m plt\u001b[38;5;241m.\u001b[39mxscale(\u001b[38;5;124m\"\u001b[39m\u001b[38;5;124mlog\u001b[39m\u001b[38;5;124m\"\u001b[39m)\n\u001b[1;32m      3\u001b[0m plt\u001b[38;5;241m.\u001b[39mxlabel(\u001b[38;5;124m\"\u001b[39m\u001b[38;5;124mcompute used\u001b[39m\u001b[38;5;124m\"\u001b[39m)\n",
      "\u001b[0;31mNameError\u001b[0m: name 'compute_used' is not defined"
     ]
    }
   ],
   "source": [
    "plt.scatter(compute_used, model_loss)\n",
    "plt.xscale(\"log\")\n",
    "plt.xlabel(\"compute used\")\n",
    "plt.yscale(\"log\")\n",
    "plt.ylabel(\"Total test loss\")\n",
    "plt.show()"
   ]
  },
  {
   "cell_type": "code",
   "execution_count": null,
   "id": "f7cc0881-9205-4d30-a986-59a91519ab69",
   "metadata": {
    "scrolled": true,
    "tags": []
   },
   "outputs": [
    {
     "name": "stdout",
     "output_type": "stream",
     "text": [
      "0/7\n",
      "Training model with scale 0.50, dataset size 1.00\n"
     ]
    },
    {
     "name": "stderr",
     "output_type": "stream",
     "text": [
      "[14500] loss: 0.387: 100%|██████████| 15000/15000 [00:16<00:00, 893.92it/s]\n"
     ]
    },
    {
     "name": "stdout",
     "output_type": "stream",
     "text": [
      "Testing model with scale 0.50, dataset size 1.00\n"
     ]
    },
    {
     "name": "stderr",
     "output_type": "stream",
     "text": [
      "[ 2000] loss: 0.369 accuracy: 64.35%: 100%|██████████| 2500/2500 [00:01<00:00, 1652.59it/s]\n"
     ]
    },
    {
     "name": "stdout",
     "output_type": "stream",
     "text": [
      "Training model with scale 1.00, dataset size 4.00\n"
     ]
    },
    {
     "name": "stderr",
     "output_type": "stream",
     "text": [
      "[14500] loss: 0.144: 100%|██████████| 15000/15000 [00:18<00:00, 806.48it/s]\n"
     ]
    },
    {
     "name": "stdout",
     "output_type": "stream",
     "text": [
      "Testing model with scale 1.00, dataset size 4.00\n"
     ]
    },
    {
     "name": "stderr",
     "output_type": "stream",
     "text": [
      "[ 2000] loss: 0.171 accuracy: 80.90%: 100%|██████████| 2500/2500 [00:01<00:00, 1509.78it/s]\n"
     ]
    },
    {
     "name": "stdout",
     "output_type": "stream",
     "text": [
      "Training model with scale 0.50, dataset size 1.00\n"
     ]
    },
    {
     "name": "stderr",
     "output_type": "stream",
     "text": [
      "[14500] loss: 0.370: 100%|██████████| 15000/15000 [00:16<00:00, 909.10it/s]\n"
     ]
    },
    {
     "name": "stdout",
     "output_type": "stream",
     "text": [
      "Testing model with scale 0.50, dataset size 1.00\n"
     ]
    },
    {
     "name": "stderr",
     "output_type": "stream",
     "text": [
      "[ 2000] loss: 0.428 accuracy: 58.70%: 100%|██████████| 2500/2500 [00:01<00:00, 1633.09it/s]\n"
     ]
    },
    {
     "name": "stdout",
     "output_type": "stream",
     "text": [
      "Training model with scale 1.00, dataset size 4.00\n"
     ]
    },
    {
     "name": "stderr",
     "output_type": "stream",
     "text": [
      "[14500] loss: 0.268: 100%|██████████| 15000/15000 [00:18<00:00, 803.40it/s]\n"
     ]
    },
    {
     "name": "stdout",
     "output_type": "stream",
     "text": [
      "Testing model with scale 1.00, dataset size 4.00\n"
     ]
    },
    {
     "name": "stderr",
     "output_type": "stream",
     "text": [
      "[ 2000] loss: 0.231 accuracy: 75.80%: 100%|██████████| 2500/2500 [00:01<00:00, 1526.41it/s]\n"
     ]
    },
    {
     "name": "stdout",
     "output_type": "stream",
     "text": [
      "Training model with scale 0.50, dataset size 1.00\n"
     ]
    },
    {
     "name": "stderr",
     "output_type": "stream",
     "text": [
      "[14500] loss: 2.302: 100%|██████████| 15000/15000 [00:16<00:00, 889.89it/s]\n"
     ]
    },
    {
     "name": "stdout",
     "output_type": "stream",
     "text": [
      "Testing model with scale 0.50, dataset size 1.00\n"
     ]
    },
    {
     "name": "stderr",
     "output_type": "stream",
     "text": [
      "[ 2000] loss: 2.307 accuracy: 0.00%: 100%|██████████| 2500/2500 [00:01<00:00, 1615.77it/s]\n"
     ]
    },
    {
     "name": "stdout",
     "output_type": "stream",
     "text": [
      "Training model with scale 1.00, dataset size 4.00\n"
     ]
    },
    {
     "name": "stderr",
     "output_type": "stream",
     "text": [
      "[14500] loss: 0.138: 100%|██████████| 15000/15000 [00:18<00:00, 801.83it/s]\n"
     ]
    },
    {
     "name": "stdout",
     "output_type": "stream",
     "text": [
      "Testing model with scale 1.00, dataset size 4.00\n"
     ]
    },
    {
     "name": "stderr",
     "output_type": "stream",
     "text": [
      "[ 2000] loss: 0.136 accuracy: 84.45%: 100%|██████████| 2500/2500 [00:01<00:00, 1496.78it/s]\n"
     ]
    },
    {
     "name": "stdout",
     "output_type": "stream",
     "text": [
      "Training model with scale 0.50, dataset size 1.00\n"
     ]
    },
    {
     "name": "stderr",
     "output_type": "stream",
     "text": [
      "[14500] loss: 0.419: 100%|██████████| 15000/15000 [00:16<00:00, 899.61it/s]\n"
     ]
    },
    {
     "name": "stdout",
     "output_type": "stream",
     "text": [
      "Testing model with scale 0.50, dataset size 1.00\n"
     ]
    },
    {
     "name": "stderr",
     "output_type": "stream",
     "text": [
      "[ 2000] loss: 0.381 accuracy: 62.20%: 100%|██████████| 2500/2500 [00:01<00:00, 1671.27it/s]\n"
     ]
    },
    {
     "name": "stdout",
     "output_type": "stream",
     "text": [
      "Training model with scale 1.00, dataset size 4.00\n"
     ]
    },
    {
     "name": "stderr",
     "output_type": "stream",
     "text": [
      "[14500] loss: 0.156: 100%|██████████| 15000/15000 [00:18<00:00, 806.68it/s]\n"
     ]
    },
    {
     "name": "stdout",
     "output_type": "stream",
     "text": [
      "Testing model with scale 1.00, dataset size 4.00\n"
     ]
    },
    {
     "name": "stderr",
     "output_type": "stream",
     "text": [
      "[ 2000] loss: 0.161 accuracy: 81.35%: 100%|██████████| 2500/2500 [00:01<00:00, 1519.44it/s]\n"
     ]
    },
    {
     "name": "stdout",
     "output_type": "stream",
     "text": [
      "Training model with scale 0.50, dataset size 1.00\n"
     ]
    },
    {
     "name": "stderr",
     "output_type": "stream",
     "text": [
      "[14500] loss: 0.398: 100%|██████████| 15000/15000 [00:16<00:00, 910.30it/s]\n"
     ]
    },
    {
     "name": "stdout",
     "output_type": "stream",
     "text": [
      "Testing model with scale 0.50, dataset size 1.00\n"
     ]
    },
    {
     "name": "stderr",
     "output_type": "stream",
     "text": [
      "[ 2000] loss: 0.375 accuracy: 62.25%: 100%|██████████| 2500/2500 [00:01<00:00, 1615.21it/s]\n"
     ]
    },
    {
     "name": "stdout",
     "output_type": "stream",
     "text": [
      "Training model with scale 1.00, dataset size 4.00\n"
     ]
    },
    {
     "name": "stderr",
     "output_type": "stream",
     "text": [
      "[14500] loss: 0.157: 100%|██████████| 15000/15000 [00:18<00:00, 798.27it/s]\n"
     ]
    },
    {
     "name": "stdout",
     "output_type": "stream",
     "text": [
      "Testing model with scale 1.00, dataset size 4.00\n"
     ]
    },
    {
     "name": "stderr",
     "output_type": "stream",
     "text": [
      "[ 2000] loss: 0.135 accuracy: 84.15%: 100%|██████████| 2500/2500 [00:01<00:00, 1514.74it/s]\n"
     ]
    },
    {
     "name": "stdout",
     "output_type": "stream",
     "text": [
      "1/7\n",
      "Training model with scale 0.71, dataset size 1.00\n"
     ]
    },
    {
     "name": "stderr",
     "output_type": "stream",
     "text": [
      "[14500] loss: 0.244: 100%|██████████| 15000/15000 [00:16<00:00, 883.29it/s]\n"
     ]
    },
    {
     "name": "stdout",
     "output_type": "stream",
     "text": [
      "Testing model with scale 0.71, dataset size 1.00\n"
     ]
    },
    {
     "name": "stderr",
     "output_type": "stream",
     "text": [
      "[ 2000] loss: 0.211 accuracy: 76.55%: 100%|██████████| 2500/2500 [00:01<00:00, 1623.52it/s]\n"
     ]
    },
    {
     "name": "stdout",
     "output_type": "stream",
     "text": [
      "Training model with scale 1.00, dataset size 2.00\n"
     ]
    },
    {
     "name": "stderr",
     "output_type": "stream",
     "text": [
      "[14500] loss: 0.216: 100%|██████████| 15000/15000 [00:18<00:00, 794.98it/s]\n"
     ]
    },
    {
     "name": "stdout",
     "output_type": "stream",
     "text": [
      "Testing model with scale 1.00, dataset size 2.00\n"
     ]
    },
    {
     "name": "stderr",
     "output_type": "stream",
     "text": [
      "[ 2000] loss: 0.180 accuracy: 79.80%: 100%|██████████| 2500/2500 [00:01<00:00, 1454.03it/s]\n"
     ]
    },
    {
     "name": "stdout",
     "output_type": "stream",
     "text": [
      "Training model with scale 0.71, dataset size 1.00\n"
     ]
    },
    {
     "name": "stderr",
     "output_type": "stream",
     "text": [
      "[14500] loss: 0.418: 100%|██████████| 15000/15000 [00:16<00:00, 886.42it/s]\n"
     ]
    },
    {
     "name": "stdout",
     "output_type": "stream",
     "text": [
      "Testing model with scale 0.71, dataset size 1.00\n"
     ]
    },
    {
     "name": "stderr",
     "output_type": "stream",
     "text": [
      "[ 2000] loss: 0.414 accuracy: 60.20%: 100%|██████████| 2500/2500 [00:01<00:00, 1624.83it/s]\n"
     ]
    },
    {
     "name": "stdout",
     "output_type": "stream",
     "text": [
      "Training model with scale 1.00, dataset size 2.00\n"
     ]
    },
    {
     "name": "stderr",
     "output_type": "stream",
     "text": [
      "[14500] loss: 0.313: 100%|██████████| 15000/15000 [00:18<00:00, 790.73it/s]\n"
     ]
    },
    {
     "name": "stdout",
     "output_type": "stream",
     "text": [
      "Testing model with scale 1.00, dataset size 2.00\n"
     ]
    },
    {
     "name": "stderr",
     "output_type": "stream",
     "text": [
      "[ 2000] loss: 0.299 accuracy: 70.00%: 100%|██████████| 2500/2500 [00:01<00:00, 1465.55it/s]\n"
     ]
    },
    {
     "name": "stdout",
     "output_type": "stream",
     "text": [
      "Training model with scale 0.71, dataset size 1.00\n"
     ]
    },
    {
     "name": "stderr",
     "output_type": "stream",
     "text": [
      "[14500] loss: 0.257: 100%|██████████| 15000/15000 [00:17<00:00, 878.92it/s]\n"
     ]
    },
    {
     "name": "stdout",
     "output_type": "stream",
     "text": [
      "Testing model with scale 0.71, dataset size 1.00\n"
     ]
    },
    {
     "name": "stderr",
     "output_type": "stream",
     "text": [
      "[ 2000] loss: 0.220 accuracy: 77.05%: 100%|██████████| 2500/2500 [00:01<00:00, 1632.49it/s]\n"
     ]
    },
    {
     "name": "stdout",
     "output_type": "stream",
     "text": [
      "Training model with scale 1.00, dataset size 2.00\n"
     ]
    },
    {
     "name": "stderr",
     "output_type": "stream",
     "text": [
      "[14500] loss: 0.112: 100%|██████████| 15000/15000 [00:18<00:00, 791.84it/s]\n"
     ]
    },
    {
     "name": "stdout",
     "output_type": "stream",
     "text": [
      "Testing model with scale 1.00, dataset size 2.00\n"
     ]
    },
    {
     "name": "stderr",
     "output_type": "stream",
     "text": [
      "[ 2000] loss: 0.161 accuracy: 81.00%: 100%|██████████| 2500/2500 [00:01<00:00, 1492.67it/s]\n"
     ]
    },
    {
     "name": "stdout",
     "output_type": "stream",
     "text": [
      "Training model with scale 0.71, dataset size 1.00\n"
     ]
    },
    {
     "name": "stderr",
     "output_type": "stream",
     "text": [
      "[14500] loss: 0.368: 100%|██████████| 15000/15000 [00:16<00:00, 896.26it/s]\n"
     ]
    },
    {
     "name": "stdout",
     "output_type": "stream",
     "text": [
      "Testing model with scale 0.71, dataset size 1.00\n"
     ]
    },
    {
     "name": "stderr",
     "output_type": "stream",
     "text": [
      "[ 2000] loss: 0.386 accuracy: 64.05%: 100%|██████████| 2500/2500 [00:01<00:00, 1671.39it/s]\n"
     ]
    },
    {
     "name": "stdout",
     "output_type": "stream",
     "text": [
      "Training model with scale 1.00, dataset size 2.00\n"
     ]
    },
    {
     "name": "stderr",
     "output_type": "stream",
     "text": [
      "[14500] loss: 0.157: 100%|██████████| 15000/15000 [00:18<00:00, 803.44it/s]\n"
     ]
    },
    {
     "name": "stdout",
     "output_type": "stream",
     "text": [
      "Testing model with scale 1.00, dataset size 2.00\n"
     ]
    },
    {
     "name": "stderr",
     "output_type": "stream",
     "text": [
      "[ 2000] loss: 0.151 accuracy: 82.35%: 100%|██████████| 2500/2500 [00:01<00:00, 1418.57it/s]\n"
     ]
    },
    {
     "name": "stdout",
     "output_type": "stream",
     "text": [
      "Training model with scale 0.71, dataset size 1.00\n"
     ]
    },
    {
     "name": "stderr",
     "output_type": "stream",
     "text": [
      "[14500] loss: 0.191: 100%|██████████| 15000/15000 [00:16<00:00, 893.34it/s]\n"
     ]
    },
    {
     "name": "stdout",
     "output_type": "stream",
     "text": [
      "Testing model with scale 0.71, dataset size 1.00\n"
     ]
    },
    {
     "name": "stderr",
     "output_type": "stream",
     "text": [
      "[ 2000] loss: 0.194 accuracy: 78.40%: 100%|██████████| 2500/2500 [00:01<00:00, 1547.73it/s]\n"
     ]
    },
    {
     "name": "stdout",
     "output_type": "stream",
     "text": [
      "Training model with scale 1.00, dataset size 2.00\n"
     ]
    },
    {
     "name": "stderr",
     "output_type": "stream",
     "text": [
      "[14500] loss: 0.163: 100%|██████████| 15000/15000 [00:18<00:00, 807.84it/s]\n"
     ]
    },
    {
     "name": "stdout",
     "output_type": "stream",
     "text": [
      "Testing model with scale 1.00, dataset size 2.00\n"
     ]
    },
    {
     "name": "stderr",
     "output_type": "stream",
     "text": [
      "[ 2000] loss: 0.144 accuracy: 83.60%: 100%|██████████| 2500/2500 [00:01<00:00, 1493.23it/s]\n"
     ]
    },
    {
     "name": "stdout",
     "output_type": "stream",
     "text": [
      "2/7\n",
      "Training model with scale 1.00, dataset size 1.00\n"
     ]
    },
    {
     "name": "stderr",
     "output_type": "stream",
     "text": [
      "[14500] loss: 0.132: 100%|██████████| 15000/15000 [00:18<00:00, 794.50it/s]\n"
     ]
    },
    {
     "name": "stdout",
     "output_type": "stream",
     "text": [
      "Testing model with scale 1.00, dataset size 1.00\n"
     ]
    },
    {
     "name": "stderr",
     "output_type": "stream",
     "text": [
      "[ 2000] loss: 0.140 accuracy: 84.05%: 100%|██████████| 2500/2500 [00:01<00:00, 1467.73it/s]\n"
     ]
    },
    {
     "name": "stdout",
     "output_type": "stream",
     "text": [
      "Training model with scale 1.00, dataset size 1.00\n"
     ]
    },
    {
     "name": "stderr",
     "output_type": "stream",
     "text": [
      "[14500] loss: 0.218: 100%|██████████| 15000/15000 [00:18<00:00, 811.68it/s]\n"
     ]
    },
    {
     "name": "stdout",
     "output_type": "stream",
     "text": [
      "Testing model with scale 1.00, dataset size 1.00\n"
     ]
    },
    {
     "name": "stderr",
     "output_type": "stream",
     "text": [
      "[ 2000] loss: 0.185 accuracy: 80.30%: 100%|██████████| 2500/2500 [00:01<00:00, 1465.65it/s]\n"
     ]
    },
    {
     "name": "stdout",
     "output_type": "stream",
     "text": [
      "Training model with scale 1.00, dataset size 1.00\n"
     ]
    },
    {
     "name": "stderr",
     "output_type": "stream",
     "text": [
      "[14500] loss: 0.221: 100%|██████████| 15000/15000 [00:18<00:00, 810.27it/s]\n"
     ]
    },
    {
     "name": "stdout",
     "output_type": "stream",
     "text": [
      "Testing model with scale 1.00, dataset size 1.00\n"
     ]
    },
    {
     "name": "stderr",
     "output_type": "stream",
     "text": [
      "[ 2000] loss: 0.226 accuracy: 75.20%: 100%|██████████| 2500/2500 [00:01<00:00, 1460.30it/s]\n"
     ]
    },
    {
     "name": "stdout",
     "output_type": "stream",
     "text": [
      "Training model with scale 1.00, dataset size 1.00\n"
     ]
    },
    {
     "name": "stderr",
     "output_type": "stream",
     "text": [
      "[14500] loss: 0.168: 100%|██████████| 15000/15000 [00:18<00:00, 792.84it/s]\n"
     ]
    },
    {
     "name": "stdout",
     "output_type": "stream",
     "text": [
      "Testing model with scale 1.00, dataset size 1.00\n"
     ]
    },
    {
     "name": "stderr",
     "output_type": "stream",
     "text": [
      "[ 2000] loss: 0.173 accuracy: 81.90%: 100%|██████████| 2500/2500 [00:01<00:00, 1461.73it/s]\n"
     ]
    },
    {
     "name": "stdout",
     "output_type": "stream",
     "text": [
      "Training model with scale 1.00, dataset size 1.00\n"
     ]
    },
    {
     "name": "stderr",
     "output_type": "stream",
     "text": [
      "[14500] loss: 0.122: 100%|██████████| 15000/15000 [00:18<00:00, 812.58it/s]\n"
     ]
    },
    {
     "name": "stdout",
     "output_type": "stream",
     "text": [
      "Testing model with scale 1.00, dataset size 1.00\n"
     ]
    },
    {
     "name": "stderr",
     "output_type": "stream",
     "text": [
      "[ 2000] loss: 0.147 accuracy: 83.40%: 100%|██████████| 2500/2500 [00:01<00:00, 1491.26it/s]\n"
     ]
    },
    {
     "name": "stdout",
     "output_type": "stream",
     "text": [
      "Training model with scale 1.00, dataset size 1.00\n"
     ]
    },
    {
     "name": "stderr",
     "output_type": "stream",
     "text": [
      "[14500] loss: 0.214: 100%|██████████| 15000/15000 [00:18<00:00, 810.35it/s]\n"
     ]
    },
    {
     "name": "stdout",
     "output_type": "stream",
     "text": [
      "Testing model with scale 1.00, dataset size 1.00\n"
     ]
    },
    {
     "name": "stderr",
     "output_type": "stream",
     "text": [
      "[ 2000] loss: 0.210 accuracy: 78.00%: 100%|██████████| 2500/2500 [00:01<00:00, 1502.95it/s]\n"
     ]
    },
    {
     "name": "stdout",
     "output_type": "stream",
     "text": [
      "Training model with scale 1.00, dataset size 1.00\n"
     ]
    },
    {
     "name": "stderr",
     "output_type": "stream",
     "text": [
      "[14500] loss: 0.152: 100%|██████████| 15000/15000 [00:18<00:00, 816.67it/s]\n"
     ]
    },
    {
     "name": "stdout",
     "output_type": "stream",
     "text": [
      "Testing model with scale 1.00, dataset size 1.00\n"
     ]
    },
    {
     "name": "stderr",
     "output_type": "stream",
     "text": [
      "[ 2000] loss: 0.159 accuracy: 80.65%: 100%|██████████| 2500/2500 [00:01<00:00, 1423.33it/s]\n"
     ]
    },
    {
     "name": "stdout",
     "output_type": "stream",
     "text": [
      "Training model with scale 1.00, dataset size 1.00\n"
     ]
    },
    {
     "name": "stderr",
     "output_type": "stream",
     "text": [
      "[14500] loss: 0.160: 100%|██████████| 15000/15000 [00:18<00:00, 791.22it/s]\n"
     ]
    },
    {
     "name": "stdout",
     "output_type": "stream",
     "text": [
      "Testing model with scale 1.00, dataset size 1.00\n"
     ]
    },
    {
     "name": "stderr",
     "output_type": "stream",
     "text": [
      "[ 2000] loss: 0.167 accuracy: 79.85%: 100%|██████████| 2500/2500 [00:01<00:00, 1488.69it/s]\n"
     ]
    },
    {
     "name": "stdout",
     "output_type": "stream",
     "text": [
      "Training model with scale 1.00, dataset size 1.00\n"
     ]
    },
    {
     "name": "stderr",
     "output_type": "stream",
     "text": [
      "[14500] loss: 0.183: 100%|██████████| 15000/15000 [00:18<00:00, 811.44it/s]\n"
     ]
    },
    {
     "name": "stdout",
     "output_type": "stream",
     "text": [
      "Testing model with scale 1.00, dataset size 1.00\n"
     ]
    },
    {
     "name": "stderr",
     "output_type": "stream",
     "text": [
      "[ 2000] loss: 0.195 accuracy: 78.35%: 100%|██████████| 2500/2500 [00:01<00:00, 1471.20it/s]\n"
     ]
    },
    {
     "name": "stdout",
     "output_type": "stream",
     "text": [
      "Training model with scale 1.00, dataset size 1.00\n"
     ]
    },
    {
     "name": "stderr",
     "output_type": "stream",
     "text": [
      "[14500] loss: 0.245: 100%|██████████| 15000/15000 [00:18<00:00, 805.21it/s]\n"
     ]
    },
    {
     "name": "stdout",
     "output_type": "stream",
     "text": [
      "Testing model with scale 1.00, dataset size 1.00\n"
     ]
    },
    {
     "name": "stderr",
     "output_type": "stream",
     "text": [
      "[ 2000] loss: 0.202 accuracy: 77.15%: 100%|██████████| 2500/2500 [00:01<00:00, 1468.27it/s]\n"
     ]
    },
    {
     "name": "stdout",
     "output_type": "stream",
     "text": [
      "3/7\n",
      "Training model with scale 1.41, dataset size 1.00\n"
     ]
    },
    {
     "name": "stderr",
     "output_type": "stream",
     "text": [
      "[14500] loss: 0.200: 100%|██████████| 15000/15000 [00:18<00:00, 814.36it/s]\n"
     ]
    },
    {
     "name": "stdout",
     "output_type": "stream",
     "text": [
      "Testing model with scale 1.41, dataset size 1.00\n"
     ]
    },
    {
     "name": "stderr",
     "output_type": "stream",
     "text": [
      "[ 2000] loss: 0.153 accuracy: 83.00%: 100%|██████████| 2500/2500 [00:01<00:00, 1506.39it/s]\n"
     ]
    },
    {
     "name": "stdout",
     "output_type": "stream",
     "text": [
      "Training model with scale 1.00, dataset size 0.50\n"
     ]
    },
    {
     "name": "stderr",
     "output_type": "stream",
     "text": [
      "[ 7000] loss: 0.222: 100%|██████████| 7500/7500 [00:09<00:00, 811.42it/s]\n"
     ]
    },
    {
     "name": "stdout",
     "output_type": "stream",
     "text": [
      "Testing model with scale 1.00, dataset size 0.50\n"
     ]
    },
    {
     "name": "stderr",
     "output_type": "stream",
     "text": [
      "[ 2000] loss: 0.198 accuracy: 77.90%: 100%|██████████| 2500/2500 [00:01<00:00, 1477.62it/s]\n"
     ]
    },
    {
     "name": "stdout",
     "output_type": "stream",
     "text": [
      "Training model with scale 1.41, dataset size 1.00\n"
     ]
    },
    {
     "name": "stderr",
     "output_type": "stream",
     "text": [
      "[14500] loss: 0.140: 100%|██████████| 15000/15000 [00:18<00:00, 811.85it/s]\n"
     ]
    },
    {
     "name": "stdout",
     "output_type": "stream",
     "text": [
      "Testing model with scale 1.41, dataset size 1.00\n"
     ]
    },
    {
     "name": "stderr",
     "output_type": "stream",
     "text": [
      "[ 2000] loss: 0.123 accuracy: 86.35%: 100%|██████████| 2500/2500 [00:01<00:00, 1514.40it/s]\n"
     ]
    },
    {
     "name": "stdout",
     "output_type": "stream",
     "text": [
      "Training model with scale 1.00, dataset size 0.50\n"
     ]
    },
    {
     "name": "stderr",
     "output_type": "stream",
     "text": [
      "[ 7000] loss: 0.215: 100%|██████████| 7500/7500 [00:09<00:00, 833.21it/s]\n"
     ]
    },
    {
     "name": "stdout",
     "output_type": "stream",
     "text": [
      "Testing model with scale 1.00, dataset size 0.50\n"
     ]
    },
    {
     "name": "stderr",
     "output_type": "stream",
     "text": [
      "[ 2000] loss: 0.203 accuracy: 78.55%: 100%|██████████| 2500/2500 [00:01<00:00, 1435.85it/s]\n"
     ]
    },
    {
     "name": "stdout",
     "output_type": "stream",
     "text": [
      "Training model with scale 1.41, dataset size 1.00\n"
     ]
    },
    {
     "name": "stderr",
     "output_type": "stream",
     "text": [
      "[14500] loss: 0.168: 100%|██████████| 15000/15000 [00:18<00:00, 811.67it/s]\n"
     ]
    },
    {
     "name": "stdout",
     "output_type": "stream",
     "text": [
      "Testing model with scale 1.41, dataset size 1.00\n"
     ]
    },
    {
     "name": "stderr",
     "output_type": "stream",
     "text": [
      "[ 2000] loss: 0.124 accuracy: 86.05%: 100%|██████████| 2500/2500 [00:01<00:00, 1460.57it/s]\n"
     ]
    },
    {
     "name": "stdout",
     "output_type": "stream",
     "text": [
      "Training model with scale 1.00, dataset size 0.50\n"
     ]
    },
    {
     "name": "stderr",
     "output_type": "stream",
     "text": [
      "[ 7000] loss: 0.217: 100%|██████████| 7500/7500 [00:09<00:00, 808.11it/s]\n"
     ]
    },
    {
     "name": "stdout",
     "output_type": "stream",
     "text": [
      "Testing model with scale 1.00, dataset size 0.50\n"
     ]
    },
    {
     "name": "stderr",
     "output_type": "stream",
     "text": [
      "[ 2000] loss: 0.186 accuracy: 80.15%: 100%|██████████| 2500/2500 [00:01<00:00, 1478.54it/s]\n"
     ]
    },
    {
     "name": "stdout",
     "output_type": "stream",
     "text": [
      "Training model with scale 1.41, dataset size 1.00\n"
     ]
    },
    {
     "name": "stderr",
     "output_type": "stream",
     "text": [
      "[14500] loss: 0.153: 100%|██████████| 15000/15000 [00:18<00:00, 804.65it/s]\n"
     ]
    },
    {
     "name": "stdout",
     "output_type": "stream",
     "text": [
      "Testing model with scale 1.41, dataset size 1.00\n"
     ]
    },
    {
     "name": "stderr",
     "output_type": "stream",
     "text": [
      "[ 2000] loss: 0.119 accuracy: 85.70%: 100%|██████████| 2500/2500 [00:01<00:00, 1491.14it/s]\n"
     ]
    },
    {
     "name": "stdout",
     "output_type": "stream",
     "text": [
      "Training model with scale 1.00, dataset size 0.50\n"
     ]
    },
    {
     "name": "stderr",
     "output_type": "stream",
     "text": [
      "[ 7000] loss: 0.210: 100%|██████████| 7500/7500 [00:09<00:00, 798.22it/s]\n"
     ]
    },
    {
     "name": "stdout",
     "output_type": "stream",
     "text": [
      "Testing model with scale 1.00, dataset size 0.50\n"
     ]
    },
    {
     "name": "stderr",
     "output_type": "stream",
     "text": [
      "[ 2000] loss: 0.253 accuracy: 73.65%: 100%|██████████| 2500/2500 [00:01<00:00, 1449.49it/s]\n"
     ]
    },
    {
     "name": "stdout",
     "output_type": "stream",
     "text": [
      "Training model with scale 1.41, dataset size 1.00\n"
     ]
    },
    {
     "name": "stderr",
     "output_type": "stream",
     "text": [
      "[14500] loss: 0.128: 100%|██████████| 15000/15000 [00:18<00:00, 809.16it/s]\n"
     ]
    },
    {
     "name": "stdout",
     "output_type": "stream",
     "text": [
      "Testing model with scale 1.41, dataset size 1.00\n"
     ]
    },
    {
     "name": "stderr",
     "output_type": "stream",
     "text": [
      "[ 2000] loss: 0.136 accuracy: 84.35%: 100%|██████████| 2500/2500 [00:01<00:00, 1482.46it/s]\n"
     ]
    },
    {
     "name": "stdout",
     "output_type": "stream",
     "text": [
      "Training model with scale 1.00, dataset size 0.50\n"
     ]
    },
    {
     "name": "stderr",
     "output_type": "stream",
     "text": [
      "[ 7000] loss: 0.163: 100%|██████████| 7500/7500 [00:09<00:00, 799.43it/s]\n"
     ]
    },
    {
     "name": "stdout",
     "output_type": "stream",
     "text": [
      "Testing model with scale 1.00, dataset size 0.50\n"
     ]
    },
    {
     "name": "stderr",
     "output_type": "stream",
     "text": [
      "[ 2000] loss: 0.186 accuracy: 79.80%: 100%|██████████| 2500/2500 [00:01<00:00, 1488.12it/s]\n"
     ]
    },
    {
     "name": "stdout",
     "output_type": "stream",
     "text": [
      "4/7\n",
      "Training model with scale 2.00, dataset size 1.00\n"
     ]
    },
    {
     "name": "stderr",
     "output_type": "stream",
     "text": [
      "[14500] loss: 0.096: 100%|██████████| 15000/15000 [00:18<00:00, 799.49it/s]\n"
     ]
    },
    {
     "name": "stdout",
     "output_type": "stream",
     "text": [
      "Testing model with scale 2.00, dataset size 1.00\n"
     ]
    },
    {
     "name": "stderr",
     "output_type": "stream",
     "text": [
      "[ 2000] loss: 0.099 accuracy: 88.40%: 100%|██████████| 2500/2500 [00:01<00:00, 1447.41it/s]\n"
     ]
    },
    {
     "name": "stdout",
     "output_type": "stream",
     "text": [
      "Training model with scale 1.00, dataset size 0.25\n"
     ]
    },
    {
     "name": "stderr",
     "output_type": "stream",
     "text": [
      "[ 3500] loss: 0.359: 100%|██████████| 3750/3750 [00:04<00:00, 793.04it/s]\n"
     ]
    },
    {
     "name": "stdout",
     "output_type": "stream",
     "text": [
      "Testing model with scale 1.00, dataset size 0.25\n"
     ]
    },
    {
     "name": "stderr",
     "output_type": "stream",
     "text": [
      "[ 2000] loss: 0.350 accuracy: 64.50%: 100%|██████████| 2500/2500 [00:01<00:00, 1505.15it/s]\n"
     ]
    },
    {
     "name": "stdout",
     "output_type": "stream",
     "text": [
      "Training model with scale 2.00, dataset size 1.00\n"
     ]
    },
    {
     "name": "stderr",
     "output_type": "stream",
     "text": [
      "[14500] loss: 0.124: 100%|██████████| 15000/15000 [00:18<00:00, 798.13it/s]\n"
     ]
    },
    {
     "name": "stdout",
     "output_type": "stream",
     "text": [
      "Testing model with scale 2.00, dataset size 1.00\n"
     ]
    },
    {
     "name": "stderr",
     "output_type": "stream",
     "text": [
      "[ 2000] loss: 0.095 accuracy: 88.75%: 100%|██████████| 2500/2500 [00:01<00:00, 1486.76it/s]\n"
     ]
    },
    {
     "name": "stdout",
     "output_type": "stream",
     "text": [
      "Training model with scale 1.00, dataset size 0.25\n"
     ]
    },
    {
     "name": "stderr",
     "output_type": "stream",
     "text": [
      "[ 3500] loss: 0.301: 100%|██████████| 3750/3750 [00:04<00:00, 811.56it/s]\n"
     ]
    },
    {
     "name": "stdout",
     "output_type": "stream",
     "text": [
      "Testing model with scale 1.00, dataset size 0.25\n"
     ]
    },
    {
     "name": "stderr",
     "output_type": "stream",
     "text": [
      "[ 2000] loss: 0.266 accuracy: 71.60%: 100%|██████████| 2500/2500 [00:01<00:00, 1448.54it/s]\n"
     ]
    },
    {
     "name": "stdout",
     "output_type": "stream",
     "text": [
      "Training model with scale 2.00, dataset size 1.00\n"
     ]
    },
    {
     "name": "stderr",
     "output_type": "stream",
     "text": [
      "[14500] loss: 0.121: 100%|██████████| 15000/15000 [00:18<00:00, 826.70it/s]\n"
     ]
    },
    {
     "name": "stdout",
     "output_type": "stream",
     "text": [
      "Testing model with scale 2.00, dataset size 1.00\n"
     ]
    },
    {
     "name": "stderr",
     "output_type": "stream",
     "text": [
      "[ 2000] loss: 0.099 accuracy: 88.30%: 100%|██████████| 2500/2500 [00:01<00:00, 1546.76it/s]\n"
     ]
    },
    {
     "name": "stdout",
     "output_type": "stream",
     "text": [
      "Training model with scale 1.00, dataset size 0.25\n"
     ]
    },
    {
     "name": "stderr",
     "output_type": "stream",
     "text": [
      "[ 3500] loss: 0.500: 100%|██████████| 3750/3750 [00:04<00:00, 817.53it/s]\n"
     ]
    },
    {
     "name": "stdout",
     "output_type": "stream",
     "text": [
      "Testing model with scale 1.00, dataset size 0.25\n"
     ]
    },
    {
     "name": "stderr",
     "output_type": "stream",
     "text": [
      "[ 2000] loss: 0.461 accuracy: 55.05%: 100%|██████████| 2500/2500 [00:01<00:00, 1478.31it/s]\n"
     ]
    },
    {
     "name": "stdout",
     "output_type": "stream",
     "text": [
      "Training model with scale 2.00, dataset size 1.00\n"
     ]
    },
    {
     "name": "stderr",
     "output_type": "stream",
     "text": [
      "[14500] loss: 0.140: 100%|██████████| 15000/15000 [00:18<00:00, 814.21it/s]\n"
     ]
    },
    {
     "name": "stdout",
     "output_type": "stream",
     "text": [
      "Testing model with scale 2.00, dataset size 1.00\n"
     ]
    },
    {
     "name": "stderr",
     "output_type": "stream",
     "text": [
      "[ 2000] loss: 0.116 accuracy: 87.30%: 100%|██████████| 2500/2500 [00:01<00:00, 1469.82it/s]\n"
     ]
    },
    {
     "name": "stdout",
     "output_type": "stream",
     "text": [
      "Training model with scale 1.00, dataset size 0.25\n"
     ]
    },
    {
     "name": "stderr",
     "output_type": "stream",
     "text": [
      "[ 3500] loss: 0.295: 100%|██████████| 3750/3750 [00:04<00:00, 813.11it/s]\n"
     ]
    },
    {
     "name": "stdout",
     "output_type": "stream",
     "text": [
      "Testing model with scale 1.00, dataset size 0.25\n"
     ]
    },
    {
     "name": "stderr",
     "output_type": "stream",
     "text": [
      "[ 2000] loss: 0.245 accuracy: 73.85%: 100%|██████████| 2500/2500 [00:01<00:00, 1503.09it/s]\n"
     ]
    },
    {
     "name": "stdout",
     "output_type": "stream",
     "text": [
      "Training model with scale 2.00, dataset size 1.00\n"
     ]
    },
    {
     "name": "stderr",
     "output_type": "stream",
     "text": [
      "[14500] loss: 0.117: 100%|██████████| 15000/15000 [00:18<00:00, 794.22it/s]\n"
     ]
    },
    {
     "name": "stdout",
     "output_type": "stream",
     "text": [
      "Testing model with scale 2.00, dataset size 1.00\n"
     ]
    },
    {
     "name": "stderr",
     "output_type": "stream",
     "text": [
      "[ 2000] loss: 0.115 accuracy: 86.25%: 100%|██████████| 2500/2500 [00:01<00:00, 1467.79it/s]\n"
     ]
    },
    {
     "name": "stdout",
     "output_type": "stream",
     "text": [
      "Training model with scale 1.00, dataset size 0.25\n"
     ]
    },
    {
     "name": "stderr",
     "output_type": "stream",
     "text": [
      "[ 3500] loss: 0.322: 100%|██████████| 3750/3750 [00:04<00:00, 797.43it/s]\n"
     ]
    },
    {
     "name": "stdout",
     "output_type": "stream",
     "text": [
      "Testing model with scale 1.00, dataset size 0.25\n"
     ]
    },
    {
     "name": "stderr",
     "output_type": "stream",
     "text": [
      "[ 2000] loss: 0.264 accuracy: 72.60%: 100%|██████████| 2500/2500 [00:01<00:00, 1430.58it/s]\n"
     ]
    },
    {
     "name": "stdout",
     "output_type": "stream",
     "text": [
      "5/7\n",
      "Training model with scale 2.83, dataset size 1.00\n"
     ]
    },
    {
     "name": "stderr",
     "output_type": "stream",
     "text": [
      "[14500] loss: 0.132: 100%|██████████| 15000/15000 [00:18<00:00, 809.57it/s]\n"
     ]
    },
    {
     "name": "stdout",
     "output_type": "stream",
     "text": [
      "Testing model with scale 2.83, dataset size 1.00\n"
     ]
    },
    {
     "name": "stderr",
     "output_type": "stream",
     "text": [
      "[ 2000] loss: 0.129 accuracy: 85.10%: 100%|██████████| 2500/2500 [00:01<00:00, 1471.14it/s]\n"
     ]
    },
    {
     "name": "stdout",
     "output_type": "stream",
     "text": [
      "Training model with scale 1.00, dataset size 0.12\n"
     ]
    },
    {
     "name": "stderr",
     "output_type": "stream",
     "text": [
      "[ 1500] loss: 0.452: 100%|██████████| 1875/1875 [00:02<00:00, 794.83it/s]\n"
     ]
    },
    {
     "name": "stdout",
     "output_type": "stream",
     "text": [
      "Testing model with scale 1.00, dataset size 0.12\n"
     ]
    },
    {
     "name": "stderr",
     "output_type": "stream",
     "text": [
      "[ 2000] loss: 0.386 accuracy: 62.70%: 100%|██████████| 2500/2500 [00:01<00:00, 1516.13it/s]\n"
     ]
    },
    {
     "name": "stdout",
     "output_type": "stream",
     "text": [
      "Training model with scale 2.83, dataset size 1.00\n"
     ]
    },
    {
     "name": "stderr",
     "output_type": "stream",
     "text": [
      "[14500] loss: 0.113: 100%|██████████| 15000/15000 [00:18<00:00, 812.58it/s]\n"
     ]
    },
    {
     "name": "stdout",
     "output_type": "stream",
     "text": [
      "Testing model with scale 2.83, dataset size 1.00\n"
     ]
    },
    {
     "name": "stderr",
     "output_type": "stream",
     "text": [
      "[ 2000] loss: 0.113 accuracy: 86.25%: 100%|██████████| 2500/2500 [00:01<00:00, 1496.89it/s]\n"
     ]
    },
    {
     "name": "stdout",
     "output_type": "stream",
     "text": [
      "Training model with scale 1.00, dataset size 0.12\n"
     ]
    },
    {
     "name": "stderr",
     "output_type": "stream",
     "text": [
      "[ 1500] loss: 0.343: 100%|██████████| 1875/1875 [00:02<00:00, 812.58it/s]\n"
     ]
    },
    {
     "name": "stdout",
     "output_type": "stream",
     "text": [
      "Testing model with scale 1.00, dataset size 0.12\n"
     ]
    },
    {
     "name": "stderr",
     "output_type": "stream",
     "text": [
      "[ 2000] loss: 0.316 accuracy: 66.10%: 100%|██████████| 2500/2500 [00:01<00:00, 1451.36it/s]\n"
     ]
    },
    {
     "name": "stdout",
     "output_type": "stream",
     "text": [
      "Training model with scale 2.83, dataset size 1.00\n"
     ]
    },
    {
     "name": "stderr",
     "output_type": "stream",
     "text": [
      "[14500] loss: 0.110: 100%|██████████| 15000/15000 [00:18<00:00, 816.43it/s]\n"
     ]
    },
    {
     "name": "stdout",
     "output_type": "stream",
     "text": [
      "Testing model with scale 2.83, dataset size 1.00\n"
     ]
    },
    {
     "name": "stderr",
     "output_type": "stream",
     "text": [
      "[ 2000] loss: 0.108 accuracy: 86.85%: 100%|██████████| 2500/2500 [00:01<00:00, 1480.24it/s]\n"
     ]
    },
    {
     "name": "stdout",
     "output_type": "stream",
     "text": [
      "Training model with scale 1.00, dataset size 0.12\n"
     ]
    },
    {
     "name": "stderr",
     "output_type": "stream",
     "text": [
      "[ 1500] loss: 0.439: 100%|██████████| 1875/1875 [00:02<00:00, 813.57it/s]\n"
     ]
    },
    {
     "name": "stdout",
     "output_type": "stream",
     "text": [
      "Testing model with scale 1.00, dataset size 0.12\n"
     ]
    },
    {
     "name": "stderr",
     "output_type": "stream",
     "text": [
      "[ 2000] loss: 0.418 accuracy: 58.15%: 100%|██████████| 2500/2500 [00:01<00:00, 1460.32it/s]\n"
     ]
    },
    {
     "name": "stdout",
     "output_type": "stream",
     "text": [
      "Training model with scale 2.83, dataset size 1.00\n"
     ]
    },
    {
     "name": "stderr",
     "output_type": "stream",
     "text": [
      "[14500] loss: 0.111: 100%|██████████| 15000/15000 [00:18<00:00, 811.87it/s]\n"
     ]
    },
    {
     "name": "stdout",
     "output_type": "stream",
     "text": [
      "Testing model with scale 2.83, dataset size 1.00\n"
     ]
    },
    {
     "name": "stderr",
     "output_type": "stream",
     "text": [
      "[ 2000] loss: 0.096 accuracy: 88.50%: 100%|██████████| 2500/2500 [00:01<00:00, 1468.42it/s]\n"
     ]
    },
    {
     "name": "stdout",
     "output_type": "stream",
     "text": [
      "Training model with scale 1.00, dataset size 0.12\n"
     ]
    },
    {
     "name": "stderr",
     "output_type": "stream",
     "text": [
      "[ 1500] loss: 0.415: 100%|██████████| 1875/1875 [00:02<00:00, 804.74it/s]\n"
     ]
    },
    {
     "name": "stdout",
     "output_type": "stream",
     "text": [
      "Testing model with scale 1.00, dataset size 0.12\n"
     ]
    },
    {
     "name": "stderr",
     "output_type": "stream",
     "text": [
      "[  500] loss: 0.371 accuracy: 63.20%:  30%|███       | 752/2500 [00:00<00:01, 1489.23it/s]"
     ]
    }
   ],
   "source": [
    "model_loss_dataset = []\n",
    "dataset_size = []\n",
    "accuracy_dataset = []\n",
    "model_loss_params = []\n",
    "compute_used = []\n",
    "accuracy_params = []\n",
    "\n",
    "for i in range(-2, 5):\n",
    "    print(f'{i + 2}/7')\n",
    "    model_scale = 2 ** (i/2)\n",
    "    dataset_scale = 2 ** -i\n",
    "    \n",
    "    model_loss_par = 0\n",
    "    accuracy_par = 0\n",
    "    compute = model_scale ** 2\n",
    "    \n",
    "    model_loss_data = 0\n",
    "    accuracy_data = 0\n",
    "    data_size = dataset_scale\n",
    "    \n",
    "    for j in range(0,5): \n",
    "        loss, accuracy = train_and_test_model(model_scale, 1)\n",
    "        accuracy_par += accuracy\n",
    "        model_loss_par += loss\n",
    "        loss, accuracy = train_and_test_model(1, dataset_scale)\n",
    "        accuracy_data += accuracy\n",
    "        model_loss_data += loss\n",
    "    \n",
    "    \n",
    "    model_loss_params.append(model_loss_par / 5)\n",
    "    accuracy_params.append(accuracy_par / 5)\n",
    "    compute_used.append(model_scale ** 2)\n",
    "        \n",
    "    model_loss_dataset.append(model_loss_data / 5)\n",
    "    accuracy_dataset.append(accuracy_data / 5)\n",
    "    dataset_size.append(data_size)"
   ]
  },
  {
   "cell_type": "code",
   "execution_count": 42,
   "id": "508b6514-2ea5-45b2-9a39-9707e0d51c7e",
   "metadata": {},
   "outputs": [
    {
     "data": {
      "image/png": "[encoded data removed]",
      "text/plain": [
       "<Figure size 432x288 with 1 Axes>"
      ]
     },
     "metadata": {
      "needs_background": "light"
     },
     "output_type": "display_data"
    }
   ],
   "source": [
    "plt.scatter(compute_used, model_loss_params)\n",
    "plt.scatter(compute_used, accuracy_params)\n",
    "\n",
    "plt.xscale(\"log\")\n",
    "plt.xlabel(\"compute used\")\n",
    "plt.yscale(\"log\")\n",
    "plt.ylabel(\"Total test loss\")\n",
    "plt.show()"
   ]
  },
  {
   "cell_type": "code",
   "execution_count": 44,
   "id": "d2b5b9ab-e1ff-4deb-8b77-9a525d310238",
   "metadata": {},
   "outputs": [
    {
     "data": {
      "image/png": "[encoded data removed]",
      "text/plain": [
       "<Figure size 432x288 with 1 Axes>"
      ]
     },
     "metadata": {
      "needs_background": "light"
     },
     "output_type": "display_data"
    }
   ],
   "source": [
    "plt.scatter(dataset_size, model_loss_dataset)\n",
    "plt.scatter(dataset_size, accuracy_dataset)\n",
    "\n",
    "plt.xscale(\"log\")\n",
    "plt.xlabel(\"dataset size\")\n",
    "plt.yscale(\"log\")\n",
    "plt.ylabel(\"Total test loss\")\n",
    "plt.show()"
   ]
  },
  {
   "cell_type": "code",
   "execution_count": 48,
   "id": "bfe0128f-73e1-4ea9-937b-eb233ff1805c",
   "metadata": {
    "scrolled": true,
    "tags": []
   },
   "outputs": [
    {
     "name": "stdout",
     "output_type": "stream",
     "text": [
      "0/7\n",
      "Training model with scale 0.50, dataset size 1.00\n"
     ]
    },
    {
     "name": "stderr",
     "output_type": "stream",
     "text": [
      "[14500] loss: 0.592: 100%|██████████| 15000/15000 [00:17<00:00, 864.61it/s]\n"
     ]
    },
    {
     "name": "stdout",
     "output_type": "stream",
     "text": [
      "Testing model with scale 0.50, dataset size 1.00\n"
     ]
    },
    {
     "name": "stderr",
     "output_type": "stream",
     "text": [
      "[ 2000] loss: 0.540 accuracy: 48.50%: 100%|██████████| 2500/2500 [00:01<00:00, 1616.81it/s]\n"
     ]
    },
    {
     "name": "stdout",
     "output_type": "stream",
     "text": [
      "Training model with scale 1.00, dataset size 4.00\n"
     ]
    },
    {
     "name": "stderr",
     "output_type": "stream",
     "text": [
      "[14500] loss: 0.206: 100%|██████████| 15000/15000 [00:19<00:00, 784.76it/s]\n"
     ]
    },
    {
     "name": "stdout",
     "output_type": "stream",
     "text": [
      "Testing model with scale 1.00, dataset size 4.00\n"
     ]
    },
    {
     "name": "stderr",
     "output_type": "stream",
     "text": [
      "[ 2000] loss: 0.226 accuracy: 74.20%: 100%|██████████| 2500/2500 [00:01<00:00, 1396.26it/s]\n"
     ]
    },
    {
     "name": "stdout",
     "output_type": "stream",
     "text": [
      "Training model with scale 0.50, dataset size 1.00\n"
     ]
    },
    {
     "name": "stderr",
     "output_type": "stream",
     "text": [
      "[14500] loss: 0.614: 100%|██████████| 15000/15000 [00:17<00:00, 866.95it/s]\n"
     ]
    },
    {
     "name": "stdout",
     "output_type": "stream",
     "text": [
      "Testing model with scale 0.50, dataset size 1.00\n"
     ]
    },
    {
     "name": "stderr",
     "output_type": "stream",
     "text": [
      "[ 2000] loss: 0.644 accuracy: 41.60%: 100%|██████████| 2500/2500 [00:01<00:00, 1507.31it/s]\n"
     ]
    },
    {
     "name": "stdout",
     "output_type": "stream",
     "text": [
      "Training model with scale 1.00, dataset size 4.00\n"
     ]
    },
    {
     "name": "stderr",
     "output_type": "stream",
     "text": [
      "[14500] loss: 0.304: 100%|██████████| 15000/15000 [00:19<00:00, 779.17it/s]\n"
     ]
    },
    {
     "name": "stdout",
     "output_type": "stream",
     "text": [
      "Testing model with scale 1.00, dataset size 4.00\n"
     ]
    },
    {
     "name": "stderr",
     "output_type": "stream",
     "text": [
      "[ 2000] loss: 0.252 accuracy: 73.65%: 100%|██████████| 2500/2500 [00:01<00:00, 1439.76it/s]\n"
     ]
    },
    {
     "name": "stdout",
     "output_type": "stream",
     "text": [
      "Training model with scale 0.50, dataset size 1.00\n"
     ]
    },
    {
     "name": "stderr",
     "output_type": "stream",
     "text": [
      "[14500] loss: 0.702: 100%|██████████| 15000/15000 [00:17<00:00, 866.73it/s]\n"
     ]
    },
    {
     "name": "stdout",
     "output_type": "stream",
     "text": [
      "Testing model with scale 0.50, dataset size 1.00\n"
     ]
    },
    {
     "name": "stderr",
     "output_type": "stream",
     "text": [
      "[ 2000] loss: 0.670 accuracy: 38.95%: 100%|██████████| 2500/2500 [00:01<00:00, 1571.58it/s]\n"
     ]
    },
    {
     "name": "stdout",
     "output_type": "stream",
     "text": [
      "Training model with scale 1.00, dataset size 4.00\n"
     ]
    },
    {
     "name": "stderr",
     "output_type": "stream",
     "text": [
      "[14500] loss: 0.270: 100%|██████████| 15000/15000 [00:19<00:00, 789.05it/s]\n"
     ]
    },
    {
     "name": "stdout",
     "output_type": "stream",
     "text": [
      "Testing model with scale 1.00, dataset size 4.00\n"
     ]
    },
    {
     "name": "stderr",
     "output_type": "stream",
     "text": [
      "[ 2000] loss: 0.243 accuracy: 73.25%: 100%|██████████| 2500/2500 [00:01<00:00, 1442.92it/s]\n"
     ]
    },
    {
     "name": "stdout",
     "output_type": "stream",
     "text": [
      "Training model with scale 0.50, dataset size 1.00\n"
     ]
    },
    {
     "name": "stderr",
     "output_type": "stream",
     "text": [
      "[14500] loss: 0.755: 100%|██████████| 15000/15000 [00:17<00:00, 876.24it/s]\n"
     ]
    },
    {
     "name": "stdout",
     "output_type": "stream",
     "text": [
      "Testing model with scale 0.50, dataset size 1.00\n"
     ]
    },
    {
     "name": "stderr",
     "output_type": "stream",
     "text": [
      "[ 2000] loss: 0.706 accuracy: 36.95%: 100%|██████████| 2500/2500 [00:01<00:00, 1581.80it/s]\n"
     ]
    },
    {
     "name": "stdout",
     "output_type": "stream",
     "text": [
      "Training model with scale 1.00, dataset size 4.00\n"
     ]
    },
    {
     "name": "stderr",
     "output_type": "stream",
     "text": [
      "[14500] loss: 0.235: 100%|██████████| 15000/15000 [00:18<00:00, 797.69it/s]\n"
     ]
    },
    {
     "name": "stdout",
     "output_type": "stream",
     "text": [
      "Testing model with scale 1.00, dataset size 4.00\n"
     ]
    },
    {
     "name": "stderr",
     "output_type": "stream",
     "text": [
      "[ 2000] loss: 0.217 accuracy: 76.55%: 100%|██████████| 2500/2500 [00:01<00:00, 1426.56it/s]\n"
     ]
    },
    {
     "name": "stdout",
     "output_type": "stream",
     "text": [
      "Training model with scale 0.50, dataset size 1.00\n"
     ]
    },
    {
     "name": "stderr",
     "output_type": "stream",
     "text": [
      "[14500] loss: 2.304: 100%|██████████| 15000/15000 [00:17<00:00, 860.77it/s]\n"
     ]
    },
    {
     "name": "stdout",
     "output_type": "stream",
     "text": [
      "Testing model with scale 0.50, dataset size 1.00\n"
     ]
    },
    {
     "name": "stderr",
     "output_type": "stream",
     "text": [
      "[ 2000] loss: 2.304 accuracy: 0.00%: 100%|██████████| 2500/2500 [00:01<00:00, 1563.76it/s]\n"
     ]
    },
    {
     "name": "stdout",
     "output_type": "stream",
     "text": [
      "Training model with scale 1.00, dataset size 4.00\n"
     ]
    },
    {
     "name": "stderr",
     "output_type": "stream",
     "text": [
      "[14500] loss: 0.272: 100%|██████████| 15000/15000 [00:19<00:00, 773.96it/s]\n"
     ]
    },
    {
     "name": "stdout",
     "output_type": "stream",
     "text": [
      "Testing model with scale 1.00, dataset size 4.00\n"
     ]
    },
    {
     "name": "stderr",
     "output_type": "stream",
     "text": [
      "[ 2000] loss: 0.238 accuracy: 73.70%: 100%|██████████| 2500/2500 [00:01<00:00, 1382.78it/s]\n"
     ]
    },
    {
     "name": "stdout",
     "output_type": "stream",
     "text": [
      "1/7\n",
      "Training model with scale 0.71, dataset size 1.00\n"
     ]
    },
    {
     "name": "stderr",
     "output_type": "stream",
     "text": [
      "[14500] loss: 0.654: 100%|██████████| 15000/15000 [00:17<00:00, 842.68it/s]\n"
     ]
    },
    {
     "name": "stdout",
     "output_type": "stream",
     "text": [
      "Testing model with scale 0.71, dataset size 1.00\n"
     ]
    },
    {
     "name": "stderr",
     "output_type": "stream",
     "text": [
      "[ 2000] loss: 0.709 accuracy: 38.20%: 100%|██████████| 2500/2500 [00:01<00:00, 1604.79it/s]\n"
     ]
    },
    {
     "name": "stdout",
     "output_type": "stream",
     "text": [
      "Training model with scale 1.00, dataset size 2.00\n"
     ]
    },
    {
     "name": "stderr",
     "output_type": "stream",
     "text": [
      "[14500] loss: 0.271: 100%|██████████| 15000/15000 [00:18<00:00, 790.73it/s]\n"
     ]
    },
    {
     "name": "stdout",
     "output_type": "stream",
     "text": [
      "Testing model with scale 1.00, dataset size 2.00\n"
     ]
    },
    {
     "name": "stderr",
     "output_type": "stream",
     "text": [
      "[ 2000] loss: 0.245 accuracy: 73.20%: 100%|██████████| 2500/2500 [00:01<00:00, 1401.33it/s]\n"
     ]
    },
    {
     "name": "stdout",
     "output_type": "stream",
     "text": [
      "Training model with scale 0.71, dataset size 1.00\n"
     ]
    },
    {
     "name": "stderr",
     "output_type": "stream",
     "text": [
      "[14500] loss: 0.466: 100%|██████████| 15000/15000 [00:17<00:00, 881.78it/s]\n"
     ]
    },
    {
     "name": "stdout",
     "output_type": "stream",
     "text": [
      "Testing model with scale 0.71, dataset size 1.00\n"
     ]
    },
    {
     "name": "stderr",
     "output_type": "stream",
     "text": [
      "[ 2000] loss: 0.437 accuracy: 55.50%: 100%|██████████| 2500/2500 [00:01<00:00, 1596.15it/s]\n"
     ]
    },
    {
     "name": "stdout",
     "output_type": "stream",
     "text": [
      "Training model with scale 1.00, dataset size 2.00\n"
     ]
    },
    {
     "name": "stderr",
     "output_type": "stream",
     "text": [
      "[14500] loss: 0.234: 100%|██████████| 15000/15000 [00:18<00:00, 804.09it/s]\n"
     ]
    },
    {
     "name": "stdout",
     "output_type": "stream",
     "text": [
      "Testing model with scale 1.00, dataset size 2.00\n"
     ]
    },
    {
     "name": "stderr",
     "output_type": "stream",
     "text": [
      "[ 2000] loss: 0.230 accuracy: 75.00%: 100%|██████████| 2500/2500 [00:01<00:00, 1448.07it/s]\n"
     ]
    },
    {
     "name": "stdout",
     "output_type": "stream",
     "text": [
      "Training model with scale 0.71, dataset size 1.00\n"
     ]
    },
    {
     "name": "stderr",
     "output_type": "stream",
     "text": [
      "[14500] loss: 0.378: 100%|██████████| 15000/15000 [00:17<00:00, 877.95it/s]\n"
     ]
    },
    {
     "name": "stdout",
     "output_type": "stream",
     "text": [
      "Testing model with scale 0.71, dataset size 1.00\n"
     ]
    },
    {
     "name": "stderr",
     "output_type": "stream",
     "text": [
      "[ 2000] loss: 0.382 accuracy: 61.40%: 100%|██████████| 2500/2500 [00:01<00:00, 1592.32it/s]\n"
     ]
    },
    {
     "name": "stdout",
     "output_type": "stream",
     "text": [
      "Training model with scale 1.00, dataset size 2.00\n"
     ]
    },
    {
     "name": "stderr",
     "output_type": "stream",
     "text": [
      "[14500] loss: 0.275: 100%|██████████| 15000/15000 [00:18<00:00, 793.58it/s]\n"
     ]
    },
    {
     "name": "stdout",
     "output_type": "stream",
     "text": [
      "Testing model with scale 1.00, dataset size 2.00\n"
     ]
    },
    {
     "name": "stderr",
     "output_type": "stream",
     "text": [
      "[ 2000] loss: 0.249 accuracy: 73.25%: 100%|██████████| 2500/2500 [00:01<00:00, 1429.78it/s]\n"
     ]
    },
    {
     "name": "stdout",
     "output_type": "stream",
     "text": [
      "Training model with scale 0.71, dataset size 1.00\n"
     ]
    },
    {
     "name": "stderr",
     "output_type": "stream",
     "text": [
      "[14500] loss: 0.297: 100%|██████████| 15000/15000 [00:17<00:00, 876.21it/s]\n"
     ]
    },
    {
     "name": "stdout",
     "output_type": "stream",
     "text": [
      "Testing model with scale 0.71, dataset size 1.00\n"
     ]
    },
    {
     "name": "stderr",
     "output_type": "stream",
     "text": [
      "[ 2000] loss: 0.307 accuracy: 67.55%: 100%|██████████| 2500/2500 [00:01<00:00, 1588.09it/s]\n"
     ]
    },
    {
     "name": "stdout",
     "output_type": "stream",
     "text": [
      "Training model with scale 1.00, dataset size 2.00\n"
     ]
    },
    {
     "name": "stderr",
     "output_type": "stream",
     "text": [
      "[14500] loss: 0.253: 100%|██████████| 15000/15000 [00:18<00:00, 796.19it/s]\n"
     ]
    },
    {
     "name": "stdout",
     "output_type": "stream",
     "text": [
      "Testing model with scale 1.00, dataset size 2.00\n"
     ]
    },
    {
     "name": "stderr",
     "output_type": "stream",
     "text": [
      "[ 2000] loss: 0.234 accuracy: 74.20%: 100%|██████████| 2500/2500 [00:01<00:00, 1437.09it/s]\n"
     ]
    },
    {
     "name": "stdout",
     "output_type": "stream",
     "text": [
      "Training model with scale 0.71, dataset size 1.00\n"
     ]
    },
    {
     "name": "stderr",
     "output_type": "stream",
     "text": [
      "[14500] loss: 0.334: 100%|██████████| 15000/15000 [00:17<00:00, 862.52it/s]\n"
     ]
    },
    {
     "name": "stdout",
     "output_type": "stream",
     "text": [
      "Testing model with scale 0.71, dataset size 1.00\n"
     ]
    },
    {
     "name": "stderr",
     "output_type": "stream",
     "text": [
      "[ 2000] loss: 0.333 accuracy: 64.25%: 100%|██████████| 2500/2500 [00:01<00:00, 1603.80it/s]\n"
     ]
    },
    {
     "name": "stdout",
     "output_type": "stream",
     "text": [
      "Training model with scale 1.00, dataset size 2.00\n"
     ]
    },
    {
     "name": "stderr",
     "output_type": "stream",
     "text": [
      "[14500] loss: 0.248: 100%|██████████| 15000/15000 [00:18<00:00, 791.37it/s]\n"
     ]
    },
    {
     "name": "stdout",
     "output_type": "stream",
     "text": [
      "Testing model with scale 1.00, dataset size 2.00\n"
     ]
    },
    {
     "name": "stderr",
     "output_type": "stream",
     "text": [
      "[ 2000] loss: 0.232 accuracy: 75.40%: 100%|██████████| 2500/2500 [00:01<00:00, 1487.73it/s]\n"
     ]
    },
    {
     "name": "stdout",
     "output_type": "stream",
     "text": [
      "2/7\n",
      "Training model with scale 1.00, dataset size 1.00\n"
     ]
    },
    {
     "name": "stderr",
     "output_type": "stream",
     "text": [
      "[14500] loss: 0.281: 100%|██████████| 15000/15000 [00:19<00:00, 773.06it/s]\n"
     ]
    },
    {
     "name": "stdout",
     "output_type": "stream",
     "text": [
      "Testing model with scale 1.00, dataset size 1.00\n"
     ]
    },
    {
     "name": "stderr",
     "output_type": "stream",
     "text": [
      "[ 2000] loss: 0.258 accuracy: 73.00%: 100%|██████████| 2500/2500 [00:01<00:00, 1471.38it/s]\n"
     ]
    },
    {
     "name": "stdout",
     "output_type": "stream",
     "text": [
      "Training model with scale 1.00, dataset size 1.00\n"
     ]
    },
    {
     "name": "stderr",
     "output_type": "stream",
     "text": [
      "[14500] loss: 0.544: 100%|██████████| 15000/15000 [00:19<00:00, 783.96it/s]\n"
     ]
    },
    {
     "name": "stdout",
     "output_type": "stream",
     "text": [
      "Testing model with scale 1.00, dataset size 1.00\n"
     ]
    },
    {
     "name": "stderr",
     "output_type": "stream",
     "text": [
      "[ 2000] loss: 0.541 accuracy: 49.35%: 100%|██████████| 2500/2500 [00:01<00:00, 1450.07it/s]\n"
     ]
    },
    {
     "name": "stdout",
     "output_type": "stream",
     "text": [
      "Training model with scale 1.00, dataset size 1.00\n"
     ]
    },
    {
     "name": "stderr",
     "output_type": "stream",
     "text": [
      "[14500] loss: 0.338: 100%|██████████| 15000/15000 [00:19<00:00, 782.34it/s]\n"
     ]
    },
    {
     "name": "stdout",
     "output_type": "stream",
     "text": [
      "Testing model with scale 1.00, dataset size 1.00\n"
     ]
    },
    {
     "name": "stderr",
     "output_type": "stream",
     "text": [
      "[ 2000] loss: 0.337 accuracy: 65.10%: 100%|██████████| 2500/2500 [00:01<00:00, 1420.85it/s]\n"
     ]
    },
    {
     "name": "stdout",
     "output_type": "stream",
     "text": [
      "Training model with scale 1.00, dataset size 1.00\n"
     ]
    },
    {
     "name": "stderr",
     "output_type": "stream",
     "text": [
      "[14500] loss: 0.244: 100%|██████████| 15000/15000 [00:19<00:00, 783.30it/s]\n"
     ]
    },
    {
     "name": "stdout",
     "output_type": "stream",
     "text": [
      "Testing model with scale 1.00, dataset size 1.00\n"
     ]
    },
    {
     "name": "stderr",
     "output_type": "stream",
     "text": [
      "[ 2000] loss: 0.243 accuracy: 73.10%: 100%|██████████| 2500/2500 [00:01<00:00, 1476.14it/s]\n"
     ]
    },
    {
     "name": "stdout",
     "output_type": "stream",
     "text": [
      "Training model with scale 1.00, dataset size 1.00\n"
     ]
    },
    {
     "name": "stderr",
     "output_type": "stream",
     "text": [
      "[14500] loss: 0.225: 100%|██████████| 15000/15000 [00:18<00:00, 791.53it/s]\n"
     ]
    },
    {
     "name": "stdout",
     "output_type": "stream",
     "text": [
      "Testing model with scale 1.00, dataset size 1.00\n"
     ]
    },
    {
     "name": "stderr",
     "output_type": "stream",
     "text": [
      "[ 2000] loss: 0.254 accuracy: 73.15%: 100%|██████████| 2500/2500 [00:01<00:00, 1444.78it/s]\n"
     ]
    },
    {
     "name": "stdout",
     "output_type": "stream",
     "text": [
      "Training model with scale 1.00, dataset size 1.00\n"
     ]
    },
    {
     "name": "stderr",
     "output_type": "stream",
     "text": [
      "[14500] loss: 0.397: 100%|██████████| 15000/15000 [00:19<00:00, 784.79it/s]\n"
     ]
    },
    {
     "name": "stdout",
     "output_type": "stream",
     "text": [
      "Testing model with scale 1.00, dataset size 1.00\n"
     ]
    },
    {
     "name": "stderr",
     "output_type": "stream",
     "text": [
      "[ 2000] loss: 0.393 accuracy: 59.95%: 100%|██████████| 2500/2500 [00:01<00:00, 1413.54it/s]\n"
     ]
    },
    {
     "name": "stdout",
     "output_type": "stream",
     "text": [
      "Training model with scale 1.00, dataset size 1.00\n"
     ]
    },
    {
     "name": "stderr",
     "output_type": "stream",
     "text": [
      "[14500] loss: 0.356: 100%|██████████| 15000/15000 [00:19<00:00, 785.18it/s]\n"
     ]
    },
    {
     "name": "stdout",
     "output_type": "stream",
     "text": [
      "Testing model with scale 1.00, dataset size 1.00\n"
     ]
    },
    {
     "name": "stderr",
     "output_type": "stream",
     "text": [
      "[ 2000] loss: 0.376 accuracy: 61.80%: 100%|██████████| 2500/2500 [00:01<00:00, 1450.47it/s]\n"
     ]
    },
    {
     "name": "stdout",
     "output_type": "stream",
     "text": [
      "Training model with scale 1.00, dataset size 1.00\n"
     ]
    },
    {
     "name": "stderr",
     "output_type": "stream",
     "text": [
      "[14500] loss: 0.225: 100%|██████████| 15000/15000 [00:19<00:00, 776.11it/s]\n"
     ]
    },
    {
     "name": "stdout",
     "output_type": "stream",
     "text": [
      "Testing model with scale 1.00, dataset size 1.00\n"
     ]
    },
    {
     "name": "stderr",
     "output_type": "stream",
     "text": [
      "[ 2000] loss: 0.245 accuracy: 73.50%: 100%|██████████| 2500/2500 [00:01<00:00, 1407.15it/s]\n"
     ]
    },
    {
     "name": "stdout",
     "output_type": "stream",
     "text": [
      "Training model with scale 1.00, dataset size 1.00\n"
     ]
    },
    {
     "name": "stderr",
     "output_type": "stream",
     "text": [
      "[14500] loss: 0.347: 100%|██████████| 15000/15000 [00:19<00:00, 779.15it/s]\n"
     ]
    },
    {
     "name": "stdout",
     "output_type": "stream",
     "text": [
      "Testing model with scale 1.00, dataset size 1.00\n"
     ]
    },
    {
     "name": "stderr",
     "output_type": "stream",
     "text": [
      "[ 2000] loss: 0.397 accuracy: 59.00%: 100%|██████████| 2500/2500 [00:01<00:00, 1483.86it/s]\n"
     ]
    },
    {
     "name": "stdout",
     "output_type": "stream",
     "text": [
      "Training model with scale 1.00, dataset size 1.00\n"
     ]
    },
    {
     "name": "stderr",
     "output_type": "stream",
     "text": [
      "[14500] loss: 0.243: 100%|██████████| 15000/15000 [00:19<00:00, 781.76it/s]\n"
     ]
    },
    {
     "name": "stdout",
     "output_type": "stream",
     "text": [
      "Testing model with scale 1.00, dataset size 1.00\n"
     ]
    },
    {
     "name": "stderr",
     "output_type": "stream",
     "text": [
      "[ 2000] loss: 0.230 accuracy: 74.80%: 100%|██████████| 2500/2500 [00:01<00:00, 1399.13it/s]\n"
     ]
    },
    {
     "name": "stdout",
     "output_type": "stream",
     "text": [
      "3/7\n",
      "Training model with scale 1.41, dataset size 1.00\n"
     ]
    },
    {
     "name": "stderr",
     "output_type": "stream",
     "text": [
      "[14500] loss: 0.192: 100%|██████████| 15000/15000 [00:18<00:00, 789.93it/s]\n"
     ]
    },
    {
     "name": "stdout",
     "output_type": "stream",
     "text": [
      "Testing model with scale 1.41, dataset size 1.00\n"
     ]
    },
    {
     "name": "stderr",
     "output_type": "stream",
     "text": [
      "[ 2000] loss: 0.193 accuracy: 78.70%: 100%|██████████| 2500/2500 [00:01<00:00, 1433.60it/s]\n"
     ]
    },
    {
     "name": "stdout",
     "output_type": "stream",
     "text": [
      "Training model with scale 1.00, dataset size 0.50\n"
     ]
    },
    {
     "name": "stderr",
     "output_type": "stream",
     "text": [
      "[ 7000] loss: 0.480: 100%|██████████| 7500/7500 [00:09<00:00, 775.08it/s]\n"
     ]
    },
    {
     "name": "stdout",
     "output_type": "stream",
     "text": [
      "Testing model with scale 1.00, dataset size 0.50\n"
     ]
    },
    {
     "name": "stderr",
     "output_type": "stream",
     "text": [
      "[ 2000] loss: 0.472 accuracy: 53.30%: 100%|██████████| 2500/2500 [00:01<00:00, 1457.32it/s]\n"
     ]
    },
    {
     "name": "stdout",
     "output_type": "stream",
     "text": [
      "Training model with scale 1.41, dataset size 1.00\n"
     ]
    },
    {
     "name": "stderr",
     "output_type": "stream",
     "text": [
      "[14500] loss: 0.212: 100%|██████████| 15000/15000 [00:19<00:00, 788.83it/s]\n"
     ]
    },
    {
     "name": "stdout",
     "output_type": "stream",
     "text": [
      "Testing model with scale 1.41, dataset size 1.00\n"
     ]
    },
    {
     "name": "stderr",
     "output_type": "stream",
     "text": [
      "[ 2000] loss: 0.218 accuracy: 75.15%: 100%|██████████| 2500/2500 [00:01<00:00, 1489.15it/s]\n"
     ]
    },
    {
     "name": "stdout",
     "output_type": "stream",
     "text": [
      "Training model with scale 1.00, dataset size 0.50\n"
     ]
    },
    {
     "name": "stderr",
     "output_type": "stream",
     "text": [
      "[ 7000] loss: 0.289: 100%|██████████| 7500/7500 [00:09<00:00, 780.90it/s]\n"
     ]
    },
    {
     "name": "stdout",
     "output_type": "stream",
     "text": [
      "Testing model with scale 1.00, dataset size 0.50\n"
     ]
    },
    {
     "name": "stderr",
     "output_type": "stream",
     "text": [
      "[ 2000] loss: 0.286 accuracy: 70.90%: 100%|██████████| 2500/2500 [00:01<00:00, 1433.79it/s]\n"
     ]
    },
    {
     "name": "stdout",
     "output_type": "stream",
     "text": [
      "Training model with scale 1.41, dataset size 1.00\n"
     ]
    },
    {
     "name": "stderr",
     "output_type": "stream",
     "text": [
      "[14500] loss: 0.300: 100%|██████████| 15000/15000 [00:19<00:00, 788.19it/s]\n"
     ]
    },
    {
     "name": "stdout",
     "output_type": "stream",
     "text": [
      "Testing model with scale 1.41, dataset size 1.00\n"
     ]
    },
    {
     "name": "stderr",
     "output_type": "stream",
     "text": [
      "[ 2000] loss: 0.251 accuracy: 71.05%: 100%|██████████| 2500/2500 [00:01<00:00, 1442.96it/s]\n"
     ]
    },
    {
     "name": "stdout",
     "output_type": "stream",
     "text": [
      "Training model with scale 1.00, dataset size 0.50\n"
     ]
    },
    {
     "name": "stderr",
     "output_type": "stream",
     "text": [
      "[ 7000] loss: 0.347: 100%|██████████| 7500/7500 [00:09<00:00, 794.97it/s]\n"
     ]
    },
    {
     "name": "stdout",
     "output_type": "stream",
     "text": [
      "Testing model with scale 1.00, dataset size 0.50\n"
     ]
    },
    {
     "name": "stderr",
     "output_type": "stream",
     "text": [
      "[ 2000] loss: 0.322 accuracy: 66.75%: 100%|██████████| 2500/2500 [00:01<00:00, 1472.19it/s]\n"
     ]
    },
    {
     "name": "stdout",
     "output_type": "stream",
     "text": [
      "Training model with scale 1.41, dataset size 1.00\n"
     ]
    },
    {
     "name": "stderr",
     "output_type": "stream",
     "text": [
      "[14500] loss: 0.215: 100%|██████████| 15000/15000 [00:19<00:00, 784.93it/s]\n"
     ]
    },
    {
     "name": "stdout",
     "output_type": "stream",
     "text": [
      "Testing model with scale 1.41, dataset size 1.00\n"
     ]
    },
    {
     "name": "stderr",
     "output_type": "stream",
     "text": [
      "[ 2000] loss: 0.198 accuracy: 77.00%: 100%|██████████| 2500/2500 [00:01<00:00, 1458.65it/s]\n"
     ]
    },
    {
     "name": "stdout",
     "output_type": "stream",
     "text": [
      "Training model with scale 1.00, dataset size 0.50\n"
     ]
    },
    {
     "name": "stderr",
     "output_type": "stream",
     "text": [
      "[ 7000] loss: 0.280: 100%|██████████| 7500/7500 [00:09<00:00, 772.26it/s]\n"
     ]
    },
    {
     "name": "stdout",
     "output_type": "stream",
     "text": [
      "Testing model with scale 1.00, dataset size 0.50\n"
     ]
    },
    {
     "name": "stderr",
     "output_type": "stream",
     "text": [
      "[ 2000] loss: 0.273 accuracy: 71.50%: 100%|██████████| 2500/2500 [00:01<00:00, 1474.23it/s]\n"
     ]
    },
    {
     "name": "stdout",
     "output_type": "stream",
     "text": [
      "Training model with scale 1.41, dataset size 1.00\n"
     ]
    },
    {
     "name": "stderr",
     "output_type": "stream",
     "text": [
      "[14500] loss: 0.209: 100%|██████████| 15000/15000 [00:19<00:00, 777.87it/s]\n"
     ]
    },
    {
     "name": "stdout",
     "output_type": "stream",
     "text": [
      "Testing model with scale 1.41, dataset size 1.00\n"
     ]
    },
    {
     "name": "stderr",
     "output_type": "stream",
     "text": [
      "[ 2000] loss: 0.206 accuracy: 77.50%: 100%|██████████| 2500/2500 [00:01<00:00, 1428.02it/s]\n"
     ]
    },
    {
     "name": "stdout",
     "output_type": "stream",
     "text": [
      "Training model with scale 1.00, dataset size 0.50\n"
     ]
    },
    {
     "name": "stderr",
     "output_type": "stream",
     "text": [
      "[ 7000] loss: 0.241: 100%|██████████| 7500/7500 [00:09<00:00, 778.40it/s]\n"
     ]
    },
    {
     "name": "stdout",
     "output_type": "stream",
     "text": [
      "Testing model with scale 1.00, dataset size 0.50\n"
     ]
    },
    {
     "name": "stderr",
     "output_type": "stream",
     "text": [
      "[ 2000] loss: 0.245 accuracy: 75.55%: 100%|██████████| 2500/2500 [00:01<00:00, 1441.33it/s]\n"
     ]
    },
    {
     "name": "stdout",
     "output_type": "stream",
     "text": [
      "4/7\n",
      "Training model with scale 2.00, dataset size 1.00\n"
     ]
    },
    {
     "name": "stderr",
     "output_type": "stream",
     "text": [
      "[14500] loss: 0.137: 100%|██████████| 15000/15000 [00:19<00:00, 772.31it/s]\n"
     ]
    },
    {
     "name": "stdout",
     "output_type": "stream",
     "text": [
      "Testing model with scale 2.00, dataset size 1.00\n"
     ]
    },
    {
     "name": "stderr",
     "output_type": "stream",
     "text": [
      "[ 2000] loss: 0.160 accuracy: 81.35%: 100%|██████████| 2500/2500 [00:01<00:00, 1410.99it/s]\n"
     ]
    },
    {
     "name": "stdout",
     "output_type": "stream",
     "text": [
      "Training model with scale 1.00, dataset size 0.25\n"
     ]
    },
    {
     "name": "stderr",
     "output_type": "stream",
     "text": [
      "[ 3500] loss: 0.386: 100%|██████████| 3750/3750 [00:04<00:00, 785.24it/s]\n"
     ]
    },
    {
     "name": "stdout",
     "output_type": "stream",
     "text": [
      "Testing model with scale 1.00, dataset size 0.25\n"
     ]
    },
    {
     "name": "stderr",
     "output_type": "stream",
     "text": [
      "[ 2000] loss: 0.380 accuracy: 59.85%: 100%|██████████| 2500/2500 [00:01<00:00, 1492.68it/s]\n"
     ]
    },
    {
     "name": "stdout",
     "output_type": "stream",
     "text": [
      "Training model with scale 2.00, dataset size 1.00\n"
     ]
    },
    {
     "name": "stderr",
     "output_type": "stream",
     "text": [
      "[14500] loss: 0.174: 100%|██████████| 15000/15000 [00:19<00:00, 780.10it/s]\n"
     ]
    },
    {
     "name": "stdout",
     "output_type": "stream",
     "text": [
      "Testing model with scale 2.00, dataset size 1.00\n"
     ]
    },
    {
     "name": "stderr",
     "output_type": "stream",
     "text": [
      "[ 2000] loss: 0.160 accuracy: 81.85%: 100%|██████████| 2500/2500 [00:01<00:00, 1426.40it/s]\n"
     ]
    },
    {
     "name": "stdout",
     "output_type": "stream",
     "text": [
      "Training model with scale 1.00, dataset size 0.25\n"
     ]
    },
    {
     "name": "stderr",
     "output_type": "stream",
     "text": [
      "[ 3500] loss: 0.354: 100%|██████████| 3750/3750 [00:04<00:00, 818.12it/s]\n"
     ]
    },
    {
     "name": "stdout",
     "output_type": "stream",
     "text": [
      "Testing model with scale 1.00, dataset size 0.25\n"
     ]
    },
    {
     "name": "stderr",
     "output_type": "stream",
     "text": [
      "[ 2000] loss: 0.332 accuracy: 65.85%: 100%|██████████| 2500/2500 [00:01<00:00, 1488.91it/s]\n"
     ]
    },
    {
     "name": "stdout",
     "output_type": "stream",
     "text": [
      "Training model with scale 2.00, dataset size 1.00\n"
     ]
    },
    {
     "name": "stderr",
     "output_type": "stream",
     "text": [
      "[14500] loss: 0.147: 100%|██████████| 15000/15000 [00:19<00:00, 786.55it/s]\n"
     ]
    },
    {
     "name": "stdout",
     "output_type": "stream",
     "text": [
      "Testing model with scale 2.00, dataset size 1.00\n"
     ]
    },
    {
     "name": "stderr",
     "output_type": "stream",
     "text": [
      "[ 2000] loss: 0.150 accuracy: 81.85%: 100%|██████████| 2500/2500 [00:01<00:00, 1417.47it/s]\n"
     ]
    },
    {
     "name": "stdout",
     "output_type": "stream",
     "text": [
      "Training model with scale 1.00, dataset size 0.25\n"
     ]
    },
    {
     "name": "stderr",
     "output_type": "stream",
     "text": [
      "[ 3500] loss: 0.353: 100%|██████████| 3750/3750 [00:04<00:00, 778.06it/s]\n"
     ]
    },
    {
     "name": "stdout",
     "output_type": "stream",
     "text": [
      "Testing model with scale 1.00, dataset size 0.25\n"
     ]
    },
    {
     "name": "stderr",
     "output_type": "stream",
     "text": [
      "[ 2000] loss: 0.332 accuracy: 65.95%: 100%|██████████| 2500/2500 [00:01<00:00, 1477.44it/s]\n"
     ]
    },
    {
     "name": "stdout",
     "output_type": "stream",
     "text": [
      "Training model with scale 2.00, dataset size 1.00\n"
     ]
    },
    {
     "name": "stderr",
     "output_type": "stream",
     "text": [
      "[14500] loss: 0.209: 100%|██████████| 15000/15000 [00:19<00:00, 788.95it/s]\n"
     ]
    },
    {
     "name": "stdout",
     "output_type": "stream",
     "text": [
      "Testing model with scale 2.00, dataset size 1.00\n"
     ]
    },
    {
     "name": "stderr",
     "output_type": "stream",
     "text": [
      "[ 2000] loss: 0.202 accuracy: 76.65%: 100%|██████████| 2500/2500 [00:01<00:00, 1487.75it/s]\n"
     ]
    },
    {
     "name": "stdout",
     "output_type": "stream",
     "text": [
      "Training model with scale 1.00, dataset size 0.25\n"
     ]
    },
    {
     "name": "stderr",
     "output_type": "stream",
     "text": [
      "[ 3500] loss: 0.607: 100%|██████████| 3750/3750 [00:04<00:00, 780.79it/s]\n"
     ]
    },
    {
     "name": "stdout",
     "output_type": "stream",
     "text": [
      "Testing model with scale 1.00, dataset size 0.25\n"
     ]
    },
    {
     "name": "stderr",
     "output_type": "stream",
     "text": [
      "[ 2000] loss: 0.591 accuracy: 42.15%: 100%|██████████| 2500/2500 [00:01<00:00, 1450.01it/s]\n"
     ]
    },
    {
     "name": "stdout",
     "output_type": "stream",
     "text": [
      "Training model with scale 2.00, dataset size 1.00\n"
     ]
    },
    {
     "name": "stderr",
     "output_type": "stream",
     "text": [
      "[14500] loss: 0.150: 100%|██████████| 15000/15000 [00:18<00:00, 793.81it/s]\n"
     ]
    },
    {
     "name": "stdout",
     "output_type": "stream",
     "text": [
      "Testing model with scale 2.00, dataset size 1.00\n"
     ]
    },
    {
     "name": "stderr",
     "output_type": "stream",
     "text": [
      "[ 2000] loss: 0.153 accuracy: 82.65%: 100%|██████████| 2500/2500 [00:01<00:00, 1509.59it/s]\n"
     ]
    },
    {
     "name": "stdout",
     "output_type": "stream",
     "text": [
      "Training model with scale 1.00, dataset size 0.25\n"
     ]
    },
    {
     "name": "stderr",
     "output_type": "stream",
     "text": [
      "[ 3500] loss: 0.327: 100%|██████████| 3750/3750 [00:04<00:00, 816.05it/s]\n"
     ]
    },
    {
     "name": "stdout",
     "output_type": "stream",
     "text": [
      "Testing model with scale 1.00, dataset size 0.25\n"
     ]
    },
    {
     "name": "stderr",
     "output_type": "stream",
     "text": [
      "[ 2000] loss: 0.345 accuracy: 64.00%: 100%|██████████| 2500/2500 [00:01<00:00, 1446.71it/s]\n"
     ]
    },
    {
     "name": "stdout",
     "output_type": "stream",
     "text": [
      "5/7\n",
      "Training model with scale 2.83, dataset size 1.00\n"
     ]
    },
    {
     "name": "stderr",
     "output_type": "stream",
     "text": [
      "[14500] loss: 0.144: 100%|██████████| 15000/15000 [00:19<00:00, 778.71it/s]\n"
     ]
    },
    {
     "name": "stdout",
     "output_type": "stream",
     "text": [
      "Testing model with scale 2.83, dataset size 1.00\n"
     ]
    },
    {
     "name": "stderr",
     "output_type": "stream",
     "text": [
      "[ 2000] loss: 0.130 accuracy: 84.65%: 100%|██████████| 2500/2500 [00:01<00:00, 1489.17it/s]\n"
     ]
    },
    {
     "name": "stdout",
     "output_type": "stream",
     "text": [
      "Training model with scale 1.00, dataset size 0.12\n"
     ]
    },
    {
     "name": "stderr",
     "output_type": "stream",
     "text": [
      "[ 1500] loss: 0.466: 100%|██████████| 1875/1875 [00:02<00:00, 753.02it/s]\n"
     ]
    },
    {
     "name": "stdout",
     "output_type": "stream",
     "text": [
      "Testing model with scale 1.00, dataset size 0.12\n"
     ]
    },
    {
     "name": "stderr",
     "output_type": "stream",
     "text": [
      "[ 2000] loss: 0.393 accuracy: 60.60%: 100%|██████████| 2500/2500 [00:01<00:00, 1430.71it/s]\n"
     ]
    },
    {
     "name": "stdout",
     "output_type": "stream",
     "text": [
      "Training model with scale 2.83, dataset size 1.00\n"
     ]
    },
    {
     "name": "stderr",
     "output_type": "stream",
     "text": [
      "[14500] loss: 0.120: 100%|██████████| 15000/15000 [00:19<00:00, 785.22it/s]\n"
     ]
    },
    {
     "name": "stdout",
     "output_type": "stream",
     "text": [
      "Testing model with scale 2.83, dataset size 1.00\n"
     ]
    },
    {
     "name": "stderr",
     "output_type": "stream",
     "text": [
      "[ 2000] loss: 0.145 accuracy: 83.40%: 100%|██████████| 2500/2500 [00:01<00:00, 1493.53it/s]\n"
     ]
    },
    {
     "name": "stdout",
     "output_type": "stream",
     "text": [
      "Training model with scale 1.00, dataset size 0.12\n"
     ]
    },
    {
     "name": "stderr",
     "output_type": "stream",
     "text": [
      "[ 1500] loss: 0.565: 100%|██████████| 1875/1875 [00:02<00:00, 782.29it/s]\n"
     ]
    },
    {
     "name": "stdout",
     "output_type": "stream",
     "text": [
      "Testing model with scale 1.00, dataset size 0.12\n"
     ]
    },
    {
     "name": "stderr",
     "output_type": "stream",
     "text": [
      "[ 2000] loss: 0.432 accuracy: 57.55%: 100%|██████████| 2500/2500 [00:01<00:00, 1464.97it/s]\n"
     ]
    },
    {
     "name": "stdout",
     "output_type": "stream",
     "text": [
      "Training model with scale 2.83, dataset size 1.00\n"
     ]
    },
    {
     "name": "stderr",
     "output_type": "stream",
     "text": [
      "[14500] loss: 0.146: 100%|██████████| 15000/15000 [00:19<00:00, 778.78it/s]\n"
     ]
    },
    {
     "name": "stdout",
     "output_type": "stream",
     "text": [
      "Testing model with scale 2.83, dataset size 1.00\n"
     ]
    },
    {
     "name": "stderr",
     "output_type": "stream",
     "text": [
      "[ 2000] loss: 0.151 accuracy: 81.65%: 100%|██████████| 2500/2500 [00:01<00:00, 1455.27it/s]\n"
     ]
    },
    {
     "name": "stdout",
     "output_type": "stream",
     "text": [
      "Training model with scale 1.00, dataset size 0.12\n"
     ]
    },
    {
     "name": "stderr",
     "output_type": "stream",
     "text": [
      "[ 1500] loss: 0.672: 100%|██████████| 1875/1875 [00:02<00:00, 787.66it/s]\n"
     ]
    },
    {
     "name": "stdout",
     "output_type": "stream",
     "text": [
      "Testing model with scale 1.00, dataset size 0.12\n"
     ]
    },
    {
     "name": "stderr",
     "output_type": "stream",
     "text": [
      "[ 2000] loss: 0.526 accuracy: 50.10%: 100%|██████████| 2500/2500 [00:01<00:00, 1439.06it/s]\n"
     ]
    },
    {
     "name": "stdout",
     "output_type": "stream",
     "text": [
      "Training model with scale 2.83, dataset size 1.00\n"
     ]
    },
    {
     "name": "stderr",
     "output_type": "stream",
     "text": [
      "[14500] loss: 0.130: 100%|██████████| 15000/15000 [00:18<00:00, 799.64it/s]\n"
     ]
    },
    {
     "name": "stdout",
     "output_type": "stream",
     "text": [
      "Testing model with scale 2.83, dataset size 1.00\n"
     ]
    },
    {
     "name": "stderr",
     "output_type": "stream",
     "text": [
      "[ 2000] loss: 0.136 accuracy: 84.45%: 100%|██████████| 2500/2500 [00:01<00:00, 1458.91it/s]\n"
     ]
    },
    {
     "name": "stdout",
     "output_type": "stream",
     "text": [
      "Training model with scale 1.00, dataset size 0.12\n"
     ]
    },
    {
     "name": "stderr",
     "output_type": "stream",
     "text": [
      "[ 1500] loss: 0.501: 100%|██████████| 1875/1875 [00:02<00:00, 754.42it/s]\n"
     ]
    },
    {
     "name": "stdout",
     "output_type": "stream",
     "text": [
      "Testing model with scale 1.00, dataset size 0.12\n"
     ]
    },
    {
     "name": "stderr",
     "output_type": "stream",
     "text": [
      "[ 2000] loss: 0.395 accuracy: 58.00%: 100%|██████████| 2500/2500 [00:01<00:00, 1419.25it/s]\n"
     ]
    },
    {
     "name": "stdout",
     "output_type": "stream",
     "text": [
      "Training model with scale 2.83, dataset size 1.00\n"
     ]
    },
    {
     "name": "stderr",
     "output_type": "stream",
     "text": [
      "[14500] loss: 0.167: 100%|██████████| 15000/15000 [00:18<00:00, 800.13it/s]\n"
     ]
    },
    {
     "name": "stdout",
     "output_type": "stream",
     "text": [
      "Testing model with scale 2.83, dataset size 1.00\n"
     ]
    },
    {
     "name": "stderr",
     "output_type": "stream",
     "text": [
      "[ 2000] loss: 0.162 accuracy: 81.45%: 100%|██████████| 2500/2500 [00:01<00:00, 1466.89it/s]\n"
     ]
    },
    {
     "name": "stdout",
     "output_type": "stream",
     "text": [
      "Training model with scale 1.00, dataset size 0.12\n"
     ]
    },
    {
     "name": "stderr",
     "output_type": "stream",
     "text": [
      "[ 1500] loss: 0.471: 100%|██████████| 1875/1875 [00:02<00:00, 760.19it/s]\n"
     ]
    },
    {
     "name": "stdout",
     "output_type": "stream",
     "text": [
      "Testing model with scale 1.00, dataset size 0.12\n"
     ]
    },
    {
     "name": "stderr",
     "output_type": "stream",
     "text": [
      "[ 2000] loss: 0.368 accuracy: 64.35%: 100%|██████████| 2500/2500 [00:01<00:00, 1464.81it/s]\n"
     ]
    },
    {
     "name": "stdout",
     "output_type": "stream",
     "text": [
      "6/7\n",
      "Training model with scale 4.00, dataset size 1.00\n"
     ]
    },
    {
     "name": "stderr",
     "output_type": "stream",
     "text": [
      "[14500] loss: 0.134: 100%|██████████| 15000/15000 [00:18<00:00, 793.45it/s]\n"
     ]
    },
    {
     "name": "stdout",
     "output_type": "stream",
     "text": [
      "Testing model with scale 4.00, dataset size 1.00\n"
     ]
    },
    {
     "name": "stderr",
     "output_type": "stream",
     "text": [
      "[ 2000] loss: 0.110 accuracy: 87.60%: 100%|██████████| 2500/2500 [00:01<00:00, 1443.52it/s]\n"
     ]
    },
    {
     "name": "stdout",
     "output_type": "stream",
     "text": [
      "Training model with scale 1.00, dataset size 0.06\n"
     ]
    },
    {
     "name": "stderr",
     "output_type": "stream",
     "text": [
      "[  500] loss: 1.344: 100%|██████████| 938/938 [00:01<00:00, 766.70it/s]\n"
     ]
    },
    {
     "name": "stdout",
     "output_type": "stream",
     "text": [
      "Testing model with scale 1.00, dataset size 0.06\n"
     ]
    },
    {
     "name": "stderr",
     "output_type": "stream",
     "text": [
      "[ 2000] loss: 0.619 accuracy: 43.55%: 100%|██████████| 2500/2500 [00:01<00:00, 1412.32it/s]\n"
     ]
    },
    {
     "name": "stdout",
     "output_type": "stream",
     "text": [
      "Training model with scale 4.00, dataset size 1.00\n"
     ]
    },
    {
     "name": "stderr",
     "output_type": "stream",
     "text": [
      "[14500] loss: 0.125: 100%|██████████| 15000/15000 [00:19<00:00, 788.01it/s]\n"
     ]
    },
    {
     "name": "stdout",
     "output_type": "stream",
     "text": [
      "Testing model with scale 4.00, dataset size 1.00\n"
     ]
    },
    {
     "name": "stderr",
     "output_type": "stream",
     "text": [
      "[ 2000] loss: 0.123 accuracy: 85.75%: 100%|██████████| 2500/2500 [00:01<00:00, 1480.92it/s]\n"
     ]
    },
    {
     "name": "stdout",
     "output_type": "stream",
     "text": [
      "Training model with scale 1.00, dataset size 0.06\n"
     ]
    },
    {
     "name": "stderr",
     "output_type": "stream",
     "text": [
      "[  500] loss: 1.118: 100%|██████████| 938/938 [00:01<00:00, 763.93it/s]\n"
     ]
    },
    {
     "name": "stdout",
     "output_type": "stream",
     "text": [
      "Testing model with scale 1.00, dataset size 0.06\n"
     ]
    },
    {
     "name": "stderr",
     "output_type": "stream",
     "text": [
      "[ 2000] loss: 0.627 accuracy: 41.75%: 100%|██████████| 2500/2500 [00:01<00:00, 1444.73it/s]\n"
     ]
    },
    {
     "name": "stdout",
     "output_type": "stream",
     "text": [
      "Training model with scale 4.00, dataset size 1.00\n"
     ]
    },
    {
     "name": "stderr",
     "output_type": "stream",
     "text": [
      "[14500] loss: 0.156: 100%|██████████| 15000/15000 [00:18<00:00, 798.96it/s]\n"
     ]
    },
    {
     "name": "stdout",
     "output_type": "stream",
     "text": [
      "Testing model with scale 4.00, dataset size 1.00\n"
     ]
    },
    {
     "name": "stderr",
     "output_type": "stream",
     "text": [
      "[ 2000] loss: 0.104 accuracy: 87.60%: 100%|██████████| 2500/2500 [00:01<00:00, 1450.87it/s]\n"
     ]
    },
    {
     "name": "stdout",
     "output_type": "stream",
     "text": [
      "Training model with scale 1.00, dataset size 0.06\n"
     ]
    },
    {
     "name": "stderr",
     "output_type": "stream",
     "text": [
      "[  500] loss: 1.197: 100%|██████████| 938/938 [00:01<00:00, 768.30it/s]\n"
     ]
    },
    {
     "name": "stdout",
     "output_type": "stream",
     "text": [
      "Testing model with scale 1.00, dataset size 0.06\n"
     ]
    },
    {
     "name": "stderr",
     "output_type": "stream",
     "text": [
      "[ 2000] loss: 0.565 accuracy: 46.00%: 100%|██████████| 2500/2500 [00:01<00:00, 1408.52it/s]\n"
     ]
    },
    {
     "name": "stdout",
     "output_type": "stream",
     "text": [
      "Training model with scale 4.00, dataset size 1.00\n"
     ]
    },
    {
     "name": "stderr",
     "output_type": "stream",
     "text": [
      "[14500] loss: 0.116: 100%|██████████| 15000/15000 [00:18<00:00, 790.54it/s]\n"
     ]
    },
    {
     "name": "stdout",
     "output_type": "stream",
     "text": [
      "Testing model with scale 4.00, dataset size 1.00\n"
     ]
    },
    {
     "name": "stderr",
     "output_type": "stream",
     "text": [
      "[ 2000] loss: 0.108 accuracy: 87.85%: 100%|██████████| 2500/2500 [00:01<00:00, 1462.11it/s]\n"
     ]
    },
    {
     "name": "stdout",
     "output_type": "stream",
     "text": [
      "Training model with scale 1.00, dataset size 0.06\n"
     ]
    },
    {
     "name": "stderr",
     "output_type": "stream",
     "text": [
      "[  500] loss: 1.461: 100%|██████████| 938/938 [00:01<00:00, 796.63it/s]\n"
     ]
    },
    {
     "name": "stdout",
     "output_type": "stream",
     "text": [
      "Testing model with scale 1.00, dataset size 0.06\n"
     ]
    },
    {
     "name": "stderr",
     "output_type": "stream",
     "text": [
      "[ 2000] loss: 0.641 accuracy: 41.50%: 100%|██████████| 2500/2500 [00:01<00:00, 1483.05it/s]\n"
     ]
    },
    {
     "name": "stdout",
     "output_type": "stream",
     "text": [
      "Training model with scale 4.00, dataset size 1.00\n"
     ]
    },
    {
     "name": "stderr",
     "output_type": "stream",
     "text": [
      "[14500] loss: 0.139: 100%|██████████| 15000/15000 [00:18<00:00, 793.70it/s]\n"
     ]
    },
    {
     "name": "stdout",
     "output_type": "stream",
     "text": [
      "Testing model with scale 4.00, dataset size 1.00\n"
     ]
    },
    {
     "name": "stderr",
     "output_type": "stream",
     "text": [
      "[ 2000] loss: 0.126 accuracy: 86.10%: 100%|██████████| 2500/2500 [00:01<00:00, 1485.22it/s]\n"
     ]
    },
    {
     "name": "stdout",
     "output_type": "stream",
     "text": [
      "Training model with scale 1.00, dataset size 0.06\n"
     ]
    },
    {
     "name": "stderr",
     "output_type": "stream",
     "text": [
      "[  500] loss: 1.473: 100%|██████████| 938/938 [00:01<00:00, 762.71it/s]\n"
     ]
    },
    {
     "name": "stdout",
     "output_type": "stream",
     "text": [
      "Testing model with scale 1.00, dataset size 0.06\n"
     ]
    },
    {
     "name": "stderr",
     "output_type": "stream",
     "text": [
      "[ 2000] loss: 0.641 accuracy: 41.05%: 100%|██████████| 2500/2500 [00:01<00:00, 1400.99it/s]\n"
     ]
    }
   ],
   "source": [
    "d_model_loss_dataset = []\n",
    "d_dataset_size = []\n",
    "d_accuracy_dataset = []\n",
    "d_model_loss_params = []\n",
    "d_compute_used = []\n",
    "d_accuracy_params = []\n",
    "\n",
    "for i in range(-2, 5):\n",
    "    print(f'{i + 2}/7')\n",
    "    model_scale = 2 ** (i/2)\n",
    "    dataset_scale = 2 ** -i\n",
    "    \n",
    "    model_loss_par = 0\n",
    "    accuracy_par = 0\n",
    "    compute = model_scale ** 2\n",
    "    \n",
    "    model_loss_data = 0\n",
    "    accuracy_data = 0\n",
    "    data_size = dataset_scale\n",
    "    \n",
    "    for j in range(0,5): \n",
    "        loss, accuracy = train_and_test_model(model_scale, 1, 0.2)\n",
    "        accuracy_par += accuracy\n",
    "        model_loss_par += loss\n",
    "        loss, accuracy = train_and_test_model(1, dataset_scale, 0.2)\n",
    "        accuracy_data += accuracy\n",
    "        model_loss_data += loss\n",
    "    \n",
    "    \n",
    "    d_model_loss_params.append(model_loss_par / 5)\n",
    "    d_accuracy_params.append(accuracy_par / 5)\n",
    "    d_compute_used.append(model_scale ** 2)\n",
    "        \n",
    "    d_model_loss_dataset.append(model_loss_data / 5)\n",
    "    d_accuracy_dataset.append(accuracy_data / 5)\n",
    "    d_dataset_size.append(data_size)"
   ]
  },
  {
   "cell_type": "code",
   "execution_count": 49,
   "id": "b4ccd5ec-6e8a-492d-b8f1-6ce6499feaeb",
   "metadata": {},
   "outputs": [
    {
     "data": {
      "image/png": "[encoded data removed]",
      "text/plain": [
       "<Figure size 432x288 with 1 Axes>"
      ]
     },
     "metadata": {
      "needs_background": "light"
     },
     "output_type": "display_data"
    }
   ],
   "source": [
    "plt.scatter(d_compute_used, d_model_loss_params)\n",
    "plt.scatter(d_compute_used, d_accuracy_params)\n",
    "\n",
    "plt.xscale(\"log\")\n",
    "plt.xlabel(\"compute used\")\n",
    "plt.yscale(\"log\")\n",
    "plt.ylabel(\"Total test loss (w/ dropout)\")\n",
    "plt.show()"
   ]
  },
  {
   "cell_type": "code",
   "execution_count": 50,
   "id": "2ec85bd1-2bf2-45d1-bcb2-d19fe597598c",
   "metadata": {},
   "outputs": [
    {
     "data": {
      "image/png": "[encoded data removed]",
      "text/plain": [
       "<Figure size 432x288 with 1 Axes>"
      ]
     },
     "metadata": {
      "needs_background": "light"
     },
     "output_type": "display_data"
    }
   ],
   "source": [
    "plt.scatter(d_dataset_size, d_model_loss_dataset)\n",
    "plt.scatter(d_dataset_size, d_accuracy_dataset)\n",
    "\n",
    "plt.xscale(\"log\")\n",
    "plt.xlabel(\"dataset size\")\n",
    "plt.yscale(\"log\")\n",
    "plt.ylabel(\"Total test loss (w/ dropout)\")\n",
    "plt.show()"
   ]
  },
  {
   "cell_type": "code",
   "execution_count": 54,
   "id": "a7fb3749-919d-46bc-8e4c-cb7926fd07c0",
   "metadata": {},
   "outputs": [],
   "source": [
    "dictData = {\n",
    "    \"dataset_size\": d_dataset_size,\n",
    "    \"model_loss\": d_model_loss_dataset,\n",
    "    \"accuracy\": d_accuracy_dataset\n",
    "}\n",
    "dictCompute = {\n",
    "    \"compute used\": d_compute_used,\n",
    "    \"model_loss\": d_model_loss_params,\n",
    "    \"accuracy\": d_accuracy_params\n",
    "}\n",
    "\n",
    "dataset_dropout = pd.DataFrame(dictData)\n",
    "compute_dropout = pd.DataFrame(dictCompute)"
   ]
  },
  {
   "cell_type": "code",
   "execution_count": null,
   "id": "741264aa-6d49-4620-93d3-8c7926fc09b1",
   "metadata": {},
   "outputs": [],
   "source": [
    "dataset_dropout.to_csv('dataset_scaling_with_dropout.csv')"
   ]
  }
 ],
 "metadata": {
  "kernelspec": {
   "display_name": "Python 3 (ipykernel)",
   "language": "python",
   "name": "python3"
  },
  "language_info": {
   "codemirror_mode": {
    "name": "ipython",
    "version": 3
   },
   "file_extension": ".py",
   "mimetype": "text/x-python",
   "name": "python",
   "nbconvert_exporter": "python",
   "pygments_lexer": "ipython3",
   "version": "3.9.13"
  }
 },
 "nbformat": 4,
 "nbformat_minor": 5
}
